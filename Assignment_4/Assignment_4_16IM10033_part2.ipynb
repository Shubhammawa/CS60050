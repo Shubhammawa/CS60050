{
 "cells": [
  {
   "cell_type": "code",
   "execution_count": 37,
   "metadata": {},
   "outputs": [],
   "source": [
    "import numpy as np\n",
    "import pandas as pd\n",
    "from sklearn.model_selection import train_test_split\n",
    "from nltk.tokenize import RegexpTokenizer\n",
    "from nltk.corpus import stopwords\n",
    "from nltk.stem import PorterStemmer\n",
    "from sklearn.preprocessing import LabelEncoder\n",
    "import math\n",
    "import matplotlib.pyplot as plt\n",
    "from sklearn.metrics import accuracy_score"
   ]
  },
  {
   "cell_type": "code",
   "execution_count": 38,
   "metadata": {},
   "outputs": [],
   "source": [
    "data = pd.read_csv('Assignment_4_data.txt', sep='\\t',header=None).values"
   ]
  },
  {
   "cell_type": "code",
   "execution_count": 39,
   "metadata": {},
   "outputs": [],
   "source": [
    "x = data[:,1]\n",
    "y = data[:,0]"
   ]
  },
  {
   "cell_type": "code",
   "execution_count": 40,
   "metadata": {},
   "outputs": [
    {
     "name": "stdout",
     "output_type": "stream",
     "text": [
      "[nltk_data] Downloading package stopwords to\n",
      "[nltk_data]     /home/shubham/nltk_data...\n",
      "[nltk_data]   Package stopwords is already up-to-date!\n"
     ]
    }
   ],
   "source": [
    "import nltk\n",
    "nltk.download('stopwords')\n",
    "stop_words = (set(stopwords.words(\"english\")))"
   ]
  },
  {
   "cell_type": "code",
   "execution_count": 41,
   "metadata": {},
   "outputs": [],
   "source": [
    "# List of lists of words\n",
    "# Removes punctuations, converts to everything to lowercase\n",
    "# Tokenization complete\n",
    "# Stopword removal also done using nltk.stopwords\n",
    "PS = PorterStemmer()\n",
    "words = []\n",
    "sentences = []\n",
    "vocab = []\n",
    "tokenizer = RegexpTokenizer(r'\\w+')\n",
    "i = 0\n",
    "for sent in x:\n",
    "    for word in tokenizer.tokenize(sent):     # Tokenization\n",
    "        if(word not in stop_words):           # Checking for stopwords\n",
    "            word = PS.stem(word)              # Applying Porter Stemming\n",
    "            words.append(word.lower())\n",
    "            vocab.append(word.lower())\n",
    "    sentences.append(words)\n",
    "    words = []"
   ]
  },
  {
   "cell_type": "code",
   "execution_count": 42,
   "metadata": {},
   "outputs": [
    {
     "name": "stdout",
     "output_type": "stream",
     "text": [
      "7375\n",
      "5572\n"
     ]
    }
   ],
   "source": [
    "# print(len(sentences))\n",
    "# print(len(vocab))\n",
    "num_sentences = len(sentences)\n",
    "vocab_size = len(set(vocab))\n",
    "print(vocab_size)\n",
    "print(num_sentences)\n",
    "#print(set(vocab))\n",
    "\n",
    "vocab = list(set(vocab))\n",
    "#print(vocab)"
   ]
  },
  {
   "cell_type": "code",
   "execution_count": 43,
   "metadata": {},
   "outputs": [],
   "source": [
    "word_2_idx = {}\n",
    "i = 0\n",
    "for word in vocab:\n",
    "    word_2_idx[word] = i\n",
    "    i+=1"
   ]
  },
  {
   "cell_type": "code",
   "execution_count": 44,
   "metadata": {},
   "outputs": [],
   "source": [
    "# One-hot vector generation for all sentences\n",
    "X = np.zeros((num_sentences,vocab_size))\n",
    "for i in range(0,len(sentences)):\n",
    "    for j in range(0,len(sentences[i])):\n",
    "        word = sentences[i][j]\n",
    "        idx = word_2_idx[word]\n",
    "        X[i][idx] = 1"
   ]
  },
  {
   "cell_type": "code",
   "execution_count": 45,
   "metadata": {},
   "outputs": [],
   "source": [
    "le = LabelEncoder()\n",
    "le.fit(y)\n",
    "y = le.transform(y)"
   ]
  },
  {
   "cell_type": "code",
   "execution_count": 46,
   "metadata": {},
   "outputs": [],
   "source": [
    "def sigmoid(x):\n",
    "    #print(np.shape(x))\n",
    "    sig = np.exp(x)/(1 + np.exp(x))\n",
    "    #print(np.shape(sig))\n",
    "    return sig"
   ]
  },
  {
   "cell_type": "code",
   "execution_count": 47,
   "metadata": {},
   "outputs": [],
   "source": [
    "def sigmoid_grad(sig):\n",
    "    '''Takes value of sigmoid as input and returns gradient w.r.t x '''\n",
    "    # x is not taken as an input\n",
    "    return sig*(1-sig)"
   ]
  },
  {
   "cell_type": "code",
   "execution_count": 48,
   "metadata": {},
   "outputs": [],
   "source": [
    "def softmax(x):\n",
    "    return np.exp(x) / np.sum(np.exp(x), axis=0)"
   ]
  },
  {
   "cell_type": "code",
   "execution_count": 58,
   "metadata": {},
   "outputs": [
    {
     "name": "stdout",
     "output_type": "stream",
     "text": [
      "Enter the number of neurons in 1st hidden layer: 10\n",
      "Enter the number of neurons in 2nd hidden layer: 10\n"
     ]
    }
   ],
   "source": [
    "# Dimensions of Neural Network\n",
    "\n",
    "input_dim = vocab_size  # input dimension\n",
    "n1 = int(input(\"Enter the number of neurons in 1st hidden layer: \"))\n",
    "n2 = int(input(\"Enter the number of neurons in 2nd hidden layer: \"))\n",
    "\n",
    "output_dim = 1   # output dimension\n",
    "\n",
    "# Other hyperparameters \n",
    "learning_rate = 0.1"
   ]
  },
  {
   "cell_type": "code",
   "execution_count": 59,
   "metadata": {},
   "outputs": [],
   "source": [
    "def Weight_initialiser():\n",
    "    W1 = np.random.uniform(size=(n1,input_dim),low=-1,high=1)    # n1*7375\n",
    "    W2 = np.random.uniform(size=(n2,n1),low=-1,high=1)           # n2*n1\n",
    "    W3 = np.random.uniform(size=(output_dim,n2),low=-1,high=1)   # 1*n2\n",
    "#     W1 = np.random.normal(size=(hidden_1_dim,input_dim))    \n",
    "#     W2 = np.random.normal(size=(output_dim,hidden_1_dim))   \n",
    "    return [W1,W2,W3]"
   ]
  },
  {
   "cell_type": "code",
   "execution_count": 60,
   "metadata": {},
   "outputs": [],
   "source": [
    "def random_mini_batches(X, Y, mini_batch_size=32, seed = 0):\n",
    "    np.random.seed(seed)            \n",
    "    m = X.shape[0]                  # number of training examples\n",
    "    mini_batches = []\n",
    "   \n",
    "    permutation = list(np.random.permutation(m))\n",
    "    shuffled_X = X[permutation,:]\n",
    "    shuffled_Y = Y[permutation]\n",
    "    \n",
    "    num_complete_minibatches = math.floor(m/mini_batch_size) # number of mini batches of size mini_batch_size\n",
    "    for k in range(0, num_complete_minibatches):\n",
    "        mini_batch_X = shuffled_X[k*mini_batch_size:(k+1)*mini_batch_size,:]\n",
    "        mini_batch_Y = shuffled_Y[k*mini_batch_size:(k+1)*mini_batch_size]\n",
    "        \n",
    "        mini_batch = (mini_batch_X, mini_batch_Y)\n",
    "        mini_batches.append(mini_batch)\n",
    "    \n",
    "    # Handling the end case (last mini-batch < mini_batch_size)\n",
    "#     if m % mini_batch_size != 0:\n",
    "#         mini_batch_X = shuffled_X[num_complete_minibatches*mini_batch_size:m,:]\n",
    "#         mini_batch_Y = shuffled_Y[num_complete_minibatches*mini_batch_size:m]\n",
    "        \n",
    "#         mini_batch = (mini_batch_X, mini_batch_Y)\n",
    "#         mini_batches.append(mini_batch)\n",
    "    \n",
    "    return mini_batches"
   ]
  },
  {
   "cell_type": "code",
   "execution_count": 61,
   "metadata": {},
   "outputs": [],
   "source": [
    "def forward(X,W):\n",
    "    # X: input matrix (batch_size x 7375)\n",
    "    W1,W2,W3 = W\n",
    "    # W1: (n1 x 7375)\n",
    "    # W2: (n2 x n1)\n",
    "    # W3: (1 x n2)\n",
    "    #print(np.shape(W1),np.shape(W2))\n",
    "    \n",
    "    # First hidden layer and activation layer\n",
    "    h1 = np.matmul(X,np.transpose(W1))    # (batch_size x 100)\n",
    "    a1 = sigmoid(h1)\n",
    "    \n",
    "    # Second hidden layer\n",
    "    h2 = np.matmul(a1,np.transpose(W2))\n",
    "    a2 = sigmoid(h2)\n",
    "    # Output layer\n",
    "    z = np.matmul(a2,np.transpose(W3))    # (batch_size x 1)\n",
    "    #print(np.shape(z))\n",
    "    #print(z)\n",
    "    p = softmax(z)\n",
    "    #print(p)\n",
    "    return [p,a1,h1,a2,h2]"
   ]
  },
  {
   "cell_type": "code",
   "execution_count": 62,
   "metadata": {},
   "outputs": [],
   "source": [
    "def backprop(W,p,a1,h1,a2,h2,X,y,loss):\n",
    "    W1,W2,W3 = W\n",
    "    \n",
    "    grad_softmax_score = p - y\n",
    "    \n",
    "    \n",
    "    grad_W3 = np.matmul(h2.T,grad_softmax_score)\n",
    "    grad_h2 = np.matmul(grad_softmax_score,W3.T)\n",
    "    grad_a2 = (grad_relu(a2)*grad_h2)\n",
    "    grad_W2 = np.matmul(grad_a2,h1.T)\n",
    "    grad_h1 = np.matmul(W2.T,grad_a2)\n",
    "    grad_a1 = (grad_relu(a1)*grad_h1)\n",
    "    grad_W1 = np.matmul(grad_a1,x_batchinput)\n",
    "    \n",
    "    W3 -= learning_rate * grad_W3\n",
    "    W2 -= learning_rate * grad_W2\n",
    "    W1 -= learning_rate * grad_W1\n",
    "    \n",
    "    W = [W1,W2,W3]\n",
    "    return W"
   ]
  },
  {
   "cell_type": "code",
   "execution_count": 63,
   "metadata": {},
   "outputs": [],
   "source": [
    "def cross_entropy_loss(p,y,epsilon=1e-3):\n",
    "    # p: batch_size X 1\n",
    "    # y: batch_size X 1\n",
    "    \n",
    "    N = np.shape(p)[0]\n",
    "    p = np.clip(p,epsilon,1.0-epsilon)\n",
    "    #print(\"p: \"+str(p)+\"\\ny: \"+str(y))\n",
    "    loss = -(np.sum(y*np.log(p) + (1-y)*np.log(1-p)))/N\n",
    "    #print(\"Loss shape: \"+str(np.shape(loss)))\n",
    "    return loss"
   ]
  },
  {
   "cell_type": "code",
   "execution_count": 64,
   "metadata": {},
   "outputs": [],
   "source": [
    "def predict(X,W):\n",
    "    p = forward(X,W)[0]\n",
    "    y_pred = np.zeros(np.shape(p))\n",
    "    for i in range(np.shape(p)[0]):\n",
    "        if(p[i]>0.5):\n",
    "            y_pred[i] = 1\n",
    "        else:\n",
    "            y_pred[i] = 0\n",
    "    return y_pred"
   ]
  },
  {
   "cell_type": "code",
   "execution_count": 65,
   "metadata": {},
   "outputs": [],
   "source": [
    "def train(X,y,num_epochs=10):\n",
    "    X_train, X_test, y_train, y_test = train_test_split(X, y, test_size=0.2)\n",
    "    W = Weight_initialiser()\n",
    "    costs = []\n",
    "    j = 0\n",
    "    for i in range(num_epochs):\n",
    "        #print(\"i\"+str(i))\n",
    "        minibatches = random_mini_batches(X_train, y_train)\n",
    "        for minibatch in minibatches:\n",
    "            #print(\"j=\"+str(j))\n",
    "            #j+=1\n",
    "            (minibatch_X, minibatch_Y) = minibatch\n",
    "            \n",
    "            # Forward pass\n",
    "            p,a1,h1,a2,h2 = forward(minibatch_X,W)\n",
    "            \n",
    "            # Cost calculation\n",
    "            loss = cross_entropy_loss(p,minibatch_Y)\n",
    "            #if(j%5==0):\n",
    "            #print(loss)\n",
    "            # Backward pass\n",
    "#             print(p)\n",
    "#             print(\"W\")\n",
    "#             print(np.shape(W))\n",
    "            W = backprop(W,p,a1,h1,a2,h2,minibatch_X,minibatch_Y,loss)\n",
    "            \n",
    "        y_pred_test = predict(X_test,W)\n",
    "        test_acc = accuracy_score(y_test,y_pred_test)\n",
    "\n",
    "        y_pred_train = predict(X_train,W)\n",
    "        train_acc = accuracy_score(y_train,y_pred_train)\n",
    "        \n",
    "        \n",
    "        #print(\"Cost after epoch \"+ str(i)+\"= \" + str(loss))\n",
    "        costs.append(loss)\n",
    "    print(\"Test Accuracy: \"+str(test_acc))\n",
    "    print(\"Train Accuracy: \"+str(train_acc))\n",
    "        #print(\"\\n\")\n",
    "        \n",
    "        \n",
    "    #plt.plot(costs)\n",
    "    #plt.show()\n",
    "    \n",
    "    return [W,costs]"
   ]
  },
  {
   "cell_type": "code",
   "execution_count": 66,
   "metadata": {},
   "outputs": [
    {
     "ename": "ValueError",
     "evalue": "shapes (32,32) and (10,1) not aligned: 32 (dim 1) != 10 (dim 0)",
     "output_type": "error",
     "traceback": [
      "\u001b[0;31m---------------------------------------------------------------------------\u001b[0m",
      "\u001b[0;31mValueError\u001b[0m                                Traceback (most recent call last)",
      "\u001b[0;32m<ipython-input-66-bf005a119426>\u001b[0m in \u001b[0;36m<module>\u001b[0;34m\u001b[0m\n\u001b[0;32m----> 1\u001b[0;31m \u001b[0mW\u001b[0m\u001b[0;34m,\u001b[0m\u001b[0mcosts\u001b[0m \u001b[0;34m=\u001b[0m \u001b[0mtrain\u001b[0m\u001b[0;34m(\u001b[0m\u001b[0mX\u001b[0m\u001b[0;34m,\u001b[0m\u001b[0my\u001b[0m\u001b[0;34m)\u001b[0m\u001b[0;34m\u001b[0m\u001b[0m\n\u001b[0m",
      "\u001b[0;32m<ipython-input-65-244edcc7c37c>\u001b[0m in \u001b[0;36mtrain\u001b[0;34m(X, y, num_epochs)\u001b[0m\n\u001b[1;32m     23\u001b[0m \u001b[0;31m#             print(\"W\")\u001b[0m\u001b[0;34m\u001b[0m\u001b[0;34m\u001b[0m\u001b[0m\n\u001b[1;32m     24\u001b[0m \u001b[0;31m#             print(np.shape(W))\u001b[0m\u001b[0;34m\u001b[0m\u001b[0;34m\u001b[0m\u001b[0m\n\u001b[0;32m---> 25\u001b[0;31m             \u001b[0mW\u001b[0m \u001b[0;34m=\u001b[0m \u001b[0mbackprop\u001b[0m\u001b[0;34m(\u001b[0m\u001b[0mW\u001b[0m\u001b[0;34m,\u001b[0m\u001b[0mp\u001b[0m\u001b[0;34m,\u001b[0m\u001b[0ma1\u001b[0m\u001b[0;34m,\u001b[0m\u001b[0mh1\u001b[0m\u001b[0;34m,\u001b[0m\u001b[0ma2\u001b[0m\u001b[0;34m,\u001b[0m\u001b[0mh2\u001b[0m\u001b[0;34m,\u001b[0m\u001b[0mminibatch_X\u001b[0m\u001b[0;34m,\u001b[0m\u001b[0mminibatch_Y\u001b[0m\u001b[0;34m,\u001b[0m\u001b[0mloss\u001b[0m\u001b[0;34m)\u001b[0m\u001b[0;34m\u001b[0m\u001b[0m\n\u001b[0m\u001b[1;32m     26\u001b[0m \u001b[0;34m\u001b[0m\u001b[0m\n\u001b[1;32m     27\u001b[0m         \u001b[0my_pred_test\u001b[0m \u001b[0;34m=\u001b[0m \u001b[0mpredict\u001b[0m\u001b[0;34m(\u001b[0m\u001b[0mX_test\u001b[0m\u001b[0;34m,\u001b[0m\u001b[0mW\u001b[0m\u001b[0;34m)\u001b[0m\u001b[0;34m\u001b[0m\u001b[0m\n",
      "\u001b[0;32m<ipython-input-62-d0b88d9140bc>\u001b[0m in \u001b[0;36mbackprop\u001b[0;34m(W, p, a1, h1, a2, h2, X, y, loss)\u001b[0m\n\u001b[1;32m      6\u001b[0m \u001b[0;34m\u001b[0m\u001b[0m\n\u001b[1;32m      7\u001b[0m     \u001b[0mgrad_W3\u001b[0m \u001b[0;34m=\u001b[0m \u001b[0mnp\u001b[0m\u001b[0;34m.\u001b[0m\u001b[0mmatmul\u001b[0m\u001b[0;34m(\u001b[0m\u001b[0mh2\u001b[0m\u001b[0;34m.\u001b[0m\u001b[0mT\u001b[0m\u001b[0;34m,\u001b[0m\u001b[0mgrad_softmax_score\u001b[0m\u001b[0;34m)\u001b[0m\u001b[0;34m\u001b[0m\u001b[0m\n\u001b[0;32m----> 8\u001b[0;31m     \u001b[0mgrad_h2\u001b[0m \u001b[0;34m=\u001b[0m \u001b[0mnp\u001b[0m\u001b[0;34m.\u001b[0m\u001b[0mmatmul\u001b[0m\u001b[0;34m(\u001b[0m\u001b[0mgrad_softmax_score\u001b[0m\u001b[0;34m,\u001b[0m\u001b[0mW3\u001b[0m\u001b[0;34m.\u001b[0m\u001b[0mT\u001b[0m\u001b[0;34m)\u001b[0m\u001b[0;34m\u001b[0m\u001b[0m\n\u001b[0m\u001b[1;32m      9\u001b[0m     \u001b[0mgrad_a2\u001b[0m \u001b[0;34m=\u001b[0m \u001b[0;34m(\u001b[0m\u001b[0mgrad_relu\u001b[0m\u001b[0;34m(\u001b[0m\u001b[0ma2\u001b[0m\u001b[0;34m)\u001b[0m\u001b[0;34m*\u001b[0m\u001b[0mgrad_h2\u001b[0m\u001b[0;34m)\u001b[0m\u001b[0;34m\u001b[0m\u001b[0m\n\u001b[1;32m     10\u001b[0m     \u001b[0mgrad_W2\u001b[0m \u001b[0;34m=\u001b[0m \u001b[0mnp\u001b[0m\u001b[0;34m.\u001b[0m\u001b[0mmatmul\u001b[0m\u001b[0;34m(\u001b[0m\u001b[0mgrad_a2\u001b[0m\u001b[0;34m,\u001b[0m\u001b[0mh1\u001b[0m\u001b[0;34m.\u001b[0m\u001b[0mT\u001b[0m\u001b[0;34m)\u001b[0m\u001b[0;34m\u001b[0m\u001b[0m\n",
      "\u001b[0;31mValueError\u001b[0m: shapes (32,32) and (10,1) not aligned: 32 (dim 1) != 10 (dim 0)"
     ]
    }
   ],
   "source": [
    "W,costs = train(X,y)"
   ]
  },
  {
   "cell_type": "code",
   "execution_count": null,
   "metadata": {},
   "outputs": [],
   "source": []
  },
  {
   "cell_type": "code",
   "execution_count": null,
   "metadata": {},
   "outputs": [],
   "source": []
  }
 ],
 "metadata": {
  "kernelspec": {
   "display_name": "Python 3",
   "language": "python",
   "name": "python3"
  },
  "language_info": {
   "codemirror_mode": {
    "name": "ipython",
    "version": 3
   },
   "file_extension": ".py",
   "mimetype": "text/x-python",
   "name": "python",
   "nbconvert_exporter": "python",
   "pygments_lexer": "ipython3",
   "version": "3.5.2"
  }
 },
 "nbformat": 4,
 "nbformat_minor": 2
}
