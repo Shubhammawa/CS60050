{
 "cells": [
  {
   "cell_type": "code",
   "execution_count": 80,
   "metadata": {},
   "outputs": [],
   "source": [
    "import numpy as np\n",
    "import pandas as pd\n",
    "from sklearn.model_selection import train_test_split\n",
    "from nltk.tokenize import RegexpTokenizer\n",
    "from nltk.corpus import stopwords\n",
    "from nltk.stem import PorterStemmer\n",
    "from sklearn.preprocessing import LabelEncoder\n",
    "import math\n",
    "import matplotlib.pyplot as plt\n",
    "from sklearn.metrics import accuracy_score"
   ]
  },
  {
   "cell_type": "code",
   "execution_count": 2,
   "metadata": {},
   "outputs": [],
   "source": [
    "data = pd.read_csv('Assignment_4_data.txt', sep='\\t',header=None).values"
   ]
  },
  {
   "cell_type": "code",
   "execution_count": 3,
   "metadata": {},
   "outputs": [
    {
     "name": "stdout",
     "output_type": "stream",
     "text": [
      "5572\n"
     ]
    }
   ],
   "source": [
    "print(len(data))"
   ]
  },
  {
   "cell_type": "code",
   "execution_count": 196,
   "metadata": {},
   "outputs": [],
   "source": [
    "x = data[:,1]\n",
    "y = data[:,0]"
   ]
  },
  {
   "cell_type": "code",
   "execution_count": 197,
   "metadata": {},
   "outputs": [
    {
     "name": "stdout",
     "output_type": "stream",
     "text": [
      "['ham' 'ham' 'spam' ... 'ham' 'ham' 'ham']\n"
     ]
    }
   ],
   "source": [
    "print(y)"
   ]
  },
  {
   "cell_type": "code",
   "execution_count": 7,
   "metadata": {},
   "outputs": [
    {
     "name": "stdout",
     "output_type": "stream",
     "text": [
      "Go until jurong point, crazy.. Available only in bugis n great world la e buffet... Cine there got amore wat...\n"
     ]
    }
   ],
   "source": [
    "print(x[0])"
   ]
  },
  {
   "cell_type": "code",
   "execution_count": 5,
   "metadata": {},
   "outputs": [
    {
     "name": "stdout",
     "output_type": "stream",
     "text": [
      "[nltk_data] Downloading package stopwords to\n",
      "[nltk_data]     /home/shubham/nltk_data...\n",
      "[nltk_data]   Package stopwords is already up-to-date!\n"
     ]
    }
   ],
   "source": [
    "import nltk\n",
    "nltk.download('stopwords')\n",
    "stop_words = (set(stopwords.words(\"english\")))"
   ]
  },
  {
   "cell_type": "code",
   "execution_count": 9,
   "metadata": {},
   "outputs": [
    {
     "name": "stdout",
     "output_type": "stream",
     "text": [
      "{'with', 'be', 'do', 'into', 'most', \"weren't\", 'doing', 'should', 'ain', 'won', 'after', 'how', \"won't\", 'didn', 'i', 'has', 's', 'is', 'up', 'more', 'on', 'can', 'from', 'ours', 'isn', 'some', 'mightn', \"mustn't\", 'few', \"mightn't\", 'being', 'those', 'hers', 'this', 'hasn', 'herself', 'have', \"shan't\", 'off', 'doesn', 'below', 'will', \"needn't\", 'itself', 'against', 'under', 'just', 'wasn', 'in', \"should've\", \"hadn't\", 'if', 'haven', 'me', 'own', 'were', 'at', 'to', 'ourselves', 'because', 'couldn', 'her', 'so', 'about', 'same', 'too', 'my', 'm', 'an', 'for', 'again', 've', 'its', \"you'll\", 'through', 'yourselves', 'that', 'any', 'hadn', 'whom', 'o', 'there', \"you'd\", 'himself', 'until', 'while', 'y', 'than', 'did', 'other', 'having', 'they', 'when', 'here', 'he', 'him', 'are', 'before', 'these', 'out', 'themselves', 'a', \"doesn't\", \"that'll\", 'then', 'nor', 'over', 'it', 'as', \"you've\", 'aren', \"aren't\", 'our', 'don', 'shouldn', 'by', 'them', \"hasn't\", 'myself', 'weren', 'll', 'we', 'am', 'where', 'wouldn', \"she's\", 'shan', 'your', 'above', 're', 'of', 'was', 'does', 'both', \"couldn't\", 'why', 'no', 'only', 'now', 'needn', 'which', \"it's\", \"wasn't\", 'not', 'and', \"isn't\", 'd', 'you', 'during', \"wouldn't\", 'theirs', \"didn't\", 'mustn', 'ma', 'their', 'been', 'the', \"don't\", \"shouldn't\", 'each', \"haven't\", 'such', 'she', 'had', 'or', 'what', 'but', 'once', \"you're\", 'yours', 'who', 'all', 'between', 'yourself', 'his', 'further', 'down', 'very', 't'}\n"
     ]
    }
   ],
   "source": [
    "print(stop_words)"
   ]
  },
  {
   "cell_type": "code",
   "execution_count": 6,
   "metadata": {},
   "outputs": [],
   "source": [
    "# List of lists of words\n",
    "# Removes punctuations, converts to everything to lowercase\n",
    "# Tokenization complete\n",
    "# Stopword removal also done using nltk.stopwords\n",
    "PS = PorterStemmer()\n",
    "words = []\n",
    "sentences = []\n",
    "vocab = []\n",
    "tokenizer = RegexpTokenizer(r'\\w+')\n",
    "i = 0\n",
    "for sent in x:\n",
    "    for word in tokenizer.tokenize(sent):     # Tokenization\n",
    "        if(word not in stop_words):           # Checking for stopwords\n",
    "            word = PS.stem(word)              # Applying Porter Stemming\n",
    "            words.append(word.lower())\n",
    "            vocab.append(word.lower())\n",
    "    sentences.append(words)\n",
    "    words = []"
   ]
  },
  {
   "cell_type": "code",
   "execution_count": 11,
   "metadata": {},
   "outputs": [
    {
     "name": "stdout",
     "output_type": "stream",
     "text": [
      "['go', 'jurong', 'point', 'crazi', 'avail', 'bugi', 'n', 'great', 'world', 'la', 'e', 'buffet', 'cine', 'got', 'amor', 'wat']\n"
     ]
    }
   ],
   "source": [
    "print(sentences[0])"
   ]
  },
  {
   "cell_type": "code",
   "execution_count": 7,
   "metadata": {},
   "outputs": [
    {
     "name": "stdout",
     "output_type": "stream",
     "text": [
      "7375\n",
      "5572\n"
     ]
    }
   ],
   "source": [
    "# print(len(sentences))\n",
    "# print(len(vocab))\n",
    "num_sentences = len(sentences)\n",
    "vocab_size = len(set(vocab))\n",
    "print(vocab_size)\n",
    "print(num_sentences)\n",
    "#print(set(vocab))\n",
    "\n",
    "vocab = list(set(vocab))\n",
    "#print(vocab)"
   ]
  },
  {
   "cell_type": "code",
   "execution_count": 8,
   "metadata": {},
   "outputs": [],
   "source": [
    "word_2_idx = {}\n",
    "i = 0\n",
    "for word in vocab:\n",
    "    word_2_idx[word] = i\n",
    "    i+=1"
   ]
  },
  {
   "cell_type": "code",
   "execution_count": 9,
   "metadata": {},
   "outputs": [],
   "source": [
    "#print(word_2_idx)"
   ]
  },
  {
   "cell_type": "code",
   "execution_count": 10,
   "metadata": {},
   "outputs": [],
   "source": [
    "# One-hot vector generation for all sentences\n",
    "X = np.zeros((num_sentences,vocab_size))\n",
    "for i in range(0,len(sentences)):\n",
    "    for j in range(0,len(sentences[i])):\n",
    "        word = sentences[i][j]\n",
    "        idx = word_2_idx[word]\n",
    "        X[i][idx] = 1"
   ]
  },
  {
   "cell_type": "code",
   "execution_count": 192,
   "metadata": {},
   "outputs": [
    {
     "name": "stdout",
     "output_type": "stream",
     "text": [
      "7375\n",
      "(5572, 7375)\n"
     ]
    }
   ],
   "source": [
    "print(len(X[0]))\n",
    "print(np.shape(X))"
   ]
  },
  {
   "cell_type": "code",
   "execution_count": 193,
   "metadata": {},
   "outputs": [],
   "source": [
    "#print(np.sum(X))"
   ]
  },
  {
   "cell_type": "code",
   "execution_count": 198,
   "metadata": {},
   "outputs": [],
   "source": [
    "le = LabelEncoder()\n",
    "le.fit(y)\n",
    "y = le.transform(y)"
   ]
  },
  {
   "cell_type": "code",
   "execution_count": 199,
   "metadata": {},
   "outputs": [
    {
     "name": "stdout",
     "output_type": "stream",
     "text": [
      "[0 0 1 ... 0 0 0]\n"
     ]
    }
   ],
   "source": [
    "print(y)"
   ]
  },
  {
   "cell_type": "code",
   "execution_count": 200,
   "metadata": {},
   "outputs": [],
   "source": [
    "# Neural Network Specifics\n",
    "# num_hidden_layers = 1\n",
    "# num_nodes_h1 = 100\n",
    "# ReLU in h1\n",
    "# Output layer - 1 neuron\n",
    "# Optimization algorithm: SGD\n",
    "# Loss fucntion: Categorical Cross Entropy Loss"
   ]
  },
  {
   "cell_type": "code",
   "execution_count": 201,
   "metadata": {},
   "outputs": [],
   "source": [
    "def ReLU(x):\n",
    "    f = np.maximum(0,x)\n",
    "    return f"
   ]
  },
  {
   "cell_type": "code",
   "execution_count": 202,
   "metadata": {},
   "outputs": [],
   "source": [
    "def ReLU_grad(x):\n",
    "    grad = np.zeros(np.shape(x))\n",
    "    #print(np.shape(x))\n",
    "    for i in range(0,np.shape(x)[0]):\n",
    "        for j in range(0,np.shape(x)[1]):\n",
    "            if(x[i][j]>0):\n",
    "                grad[i][j] = 1\n",
    "            else:\n",
    "                grad[i][j] = 0\n",
    "    return grad"
   ]
  },
  {
   "cell_type": "code",
   "execution_count": 203,
   "metadata": {},
   "outputs": [],
   "source": [
    "def sigmoid(x):\n",
    "    #print(np.shape(x))\n",
    "    sig = np.exp(x)/(1 + np.exp(x))\n",
    "    #print(np.shape(sig))\n",
    "    return sig"
   ]
  },
  {
   "cell_type": "code",
   "execution_count": 204,
   "metadata": {},
   "outputs": [],
   "source": [
    "def sigmoid_grad(sig):\n",
    "    '''Takes value of sigmoid as input and returns gradient w.r.t x '''\n",
    "    # x is not taken as an input\n",
    "    return sig*(1-sig)"
   ]
  },
  {
   "cell_type": "code",
   "execution_count": 205,
   "metadata": {},
   "outputs": [],
   "source": [
    "#ReLU([0,3,-1,1,2,-4])"
   ]
  },
  {
   "cell_type": "code",
   "execution_count": 280,
   "metadata": {},
   "outputs": [],
   "source": [
    "# Dimensions of Neural Network\n",
    "\n",
    "input_dim = vocab_size  # input dimension\n",
    "hidden_1_dim = 100  # hidden layer 1 dimension\n",
    "output_dim = 1   # output dimension\n",
    "\n",
    "# Other hyperparameters \n",
    "learning_rate = 0.1"
   ]
  },
  {
   "cell_type": "code",
   "execution_count": 324,
   "metadata": {},
   "outputs": [],
   "source": [
    "def Weight_initialiser():\n",
    "    W1 = np.random.uniform(size=(hidden_1_dim,input_dim),low=-1,high=1)    # 100*7375\n",
    "    W2 = np.random.uniform(size=(output_dim,hidden_1_dim),low=-1,high=1)   # 1*100\n",
    "#     W1 = np.random.normal(size=(hidden_1_dim,input_dim))    # 100*7375\n",
    "#     W2 = np.random.normal(size=(output_dim,hidden_1_dim))   # 1*100\n",
    "    return [W1,W2]"
   ]
  },
  {
   "cell_type": "code",
   "execution_count": 384,
   "metadata": {},
   "outputs": [],
   "source": [
    "def random_mini_batches(X, Y, mini_batch_size=32, seed = 0):\n",
    "    np.random.seed(seed)            \n",
    "    m = X.shape[0]                  # number of training examples\n",
    "    mini_batches = []\n",
    "   \n",
    "    permutation = list(np.random.permutation(m))\n",
    "    shuffled_X = X[permutation,:]\n",
    "    shuffled_Y = Y[permutation]\n",
    "    \n",
    "    num_complete_minibatches = math.floor(m/mini_batch_size) # number of mini batches of size mini_batch_size\n",
    "    for k in range(0, num_complete_minibatches):\n",
    "        mini_batch_X = shuffled_X[k*mini_batch_size:(k+1)*mini_batch_size,:]\n",
    "        mini_batch_Y = shuffled_Y[k*mini_batch_size:(k+1)*mini_batch_size]\n",
    "        \n",
    "        mini_batch = (mini_batch_X, mini_batch_Y)\n",
    "        mini_batches.append(mini_batch)\n",
    "    \n",
    "    # Handling the end case (last mini-batch < mini_batch_size)\n",
    "#     if m % mini_batch_size != 0:\n",
    "#         mini_batch_X = shuffled_X[num_complete_minibatches*mini_batch_size:m,:]\n",
    "#         mini_batch_Y = shuffled_Y[num_complete_minibatches*mini_batch_size:m]\n",
    "        \n",
    "#         mini_batch = (mini_batch_X, mini_batch_Y)\n",
    "#         mini_batches.append(mini_batch)\n",
    "    \n",
    "    return mini_batches"
   ]
  },
  {
   "cell_type": "code",
   "execution_count": 385,
   "metadata": {},
   "outputs": [],
   "source": [
    "def forward(X,W):\n",
    "    # X: input matrix (batch_size x 7375)\n",
    "    W1,W2 = W\n",
    "    # W1: (100 x 7375)\n",
    "    # W2: (1 x 100)\n",
    "    #print(np.shape(W1),np.shape(W2))\n",
    "    # First hidden layer and activation layer\n",
    "    h1 = np.matmul(X,np.transpose(W1))    # (batch_size x 100)\n",
    "    a1 = ReLU(h1)\n",
    "    \n",
    "    # Output layer\n",
    "    z = np.matmul(a1,np.transpose(W2))    # (batch_size x 1)\n",
    "    #print(np.shape(z))\n",
    "    #print(z)\n",
    "    p = sigmoid(z)\n",
    "    #print(p)\n",
    "    return [p,a1,h1]"
   ]
  },
  {
   "cell_type": "code",
   "execution_count": 440,
   "metadata": {
    "scrolled": true
   },
   "outputs": [],
   "source": [
    "def backprop(W,p,a1,h1,X,y,loss):\n",
    "    W1,W2 = W\n",
    "    \n",
    "    grad_loss = np.sum(y*(p-1)+(1-y)*p)            # d(Loss)/dP\n",
    "    #print(\"Grad_loss: \",grad_loss)\n",
    "    grad_z = sigmoid_grad(p)                       # dP/dZ\n",
    "    #print(\"Grad_z: \",grad_z)\n",
    "    #print(np.shape(grad_z),np.shape(a1),np.shape(grad_loss))\n",
    "    #print(\"a1: \",a1)\n",
    "    grad_W2 = np.matmul(np.transpose(grad_z),a1)*grad_loss     # dP/dW2 = (dP/dZ)*(dZ/dW2) ; dZ/dW2 = a1\n",
    "    #print(\"grad_W2: \",grad_W2)\n",
    "    #print(np.shape(X),np.shape(h1),np.shape(W2),np.shape(grad_z))\n",
    "    #print(np.shape(np.multiply(grad_z,W2)))\n",
    "    dp_dh1 = np.multiply(np.multiply(grad_z,W2),ReLU_grad(h1))    # dP/dh1\n",
    "    #print(\"dP/dh1: \",np.sum(dp_dh1))\n",
    "    #print(\"W2: \",W2)\n",
    "    #print(\"Relu_grad: \",ReLU_grad(h1))\n",
    "    grad_W1 = np.matmul(np.transpose(dp_dh1),X)*grad_loss\n",
    "    \n",
    "    # dP/dW1 = (dP/dZ)*(dZ/da1)*(da1/dh1)*(dh1/dW1)    \n",
    "    #print(\"W1: \"+str(np.sum(grad_W1)))\n",
    "    #print(\"W2: \"+str(np.sum(grad_W2)))\n",
    "    # Update weights\n",
    "    W1 = W1 - learning_rate*grad_W1\n",
    "    W2 = W2 - learning_rate*grad_W2\n",
    "    W = [W1,W2]\n",
    "    return W"
   ]
  },
  {
   "cell_type": "code",
   "execution_count": 441,
   "metadata": {},
   "outputs": [],
   "source": [
    "def cross_entropy_loss(p,y,epsilon=1e-3):\n",
    "    # p: batch_size X 1\n",
    "    # y: batch_size X 1\n",
    "    \n",
    "    N = np.shape(p)[0]\n",
    "    p = np.clip(p,epsilon,1.0-epsilon)\n",
    "    #print(\"p: \"+str(p)+\"\\ny: \"+str(y))\n",
    "    loss = -(np.sum(y*np.log(p) + (1-y)*np.log(1-p)))/N\n",
    "    #print(\"Loss shape: \"+str(np.shape(loss)))\n",
    "    return loss"
   ]
  },
  {
   "cell_type": "code",
   "execution_count": 442,
   "metadata": {},
   "outputs": [],
   "source": [
    "def predict(X,W):\n",
    "    p = forward(X,W)[0]\n",
    "    y_pred = np.zeros(np.shape(p))\n",
    "    for i in range(np.shape(p)[0]):\n",
    "        if(p[i]>0.5):\n",
    "            y_pred[i] = 1\n",
    "        else:\n",
    "            y_pred[i] = 0\n",
    "    return y_pred"
   ]
  },
  {
   "cell_type": "code",
   "execution_count": 455,
   "metadata": {},
   "outputs": [],
   "source": [
    "def train(X,y,num_epochs=10):\n",
    "    X_train, X_test, y_train, y_test = train_test_split(X, y, test_size=0.2)\n",
    "    W = Weight_initialiser()\n",
    "    costs = []\n",
    "    j = 0\n",
    "    for i in range(num_epochs):\n",
    "        #print(\"i\"+str(i))\n",
    "        minibatches = random_mini_batches(X_train, y_train)\n",
    "        for minibatch in minibatches:\n",
    "            #print(\"j=\"+str(j))\n",
    "            #j+=1\n",
    "            (minibatch_X, minibatch_Y) = minibatch\n",
    "            \n",
    "            # Forward pass\n",
    "            p,a1,h1 = forward(minibatch_X,W)\n",
    "            \n",
    "            # Cost calculation\n",
    "            loss = cross_entropy_loss(p,minibatch_Y)\n",
    "            #if(j%5==0):\n",
    "            #print(loss)\n",
    "            # Backward pass\n",
    "#             print(p)\n",
    "#             print(\"W\")\n",
    "#             print(np.shape(W))\n",
    "            W = backprop(W,p,a1,h1,minibatch_X,minibatch_Y,loss)\n",
    "            \n",
    "        y_pred_test = predict(X_test,W)\n",
    "        test_acc = accuracy_score(y_test,y_pred_test)\n",
    "\n",
    "        y_pred_train = predict(X_train,W)\n",
    "        train_acc = accuracy_score(y_train,y_pred_train)\n",
    "        \n",
    "        \n",
    "        #print(\"Cost after epoch \"+ str(i)+\"= \" + str(loss))\n",
    "        costs.append(loss)\n",
    "    print(\"Test Accuracy: \"+str(test_acc))\n",
    "    print(\"Train Accuracy: \"+str(train_acc))\n",
    "        #print(\"\\n\")\n",
    "        \n",
    "        \n",
    "    #plt.plot(costs)\n",
    "    #plt.show()\n",
    "    \n",
    "    return [W,costs]"
   ]
  },
  {
   "cell_type": "code",
   "execution_count": 456,
   "metadata": {},
   "outputs": [
    {
     "name": "stdout",
     "output_type": "stream",
     "text": [
      "Test Accuracy: 0.8609865470852018\n",
      "Train Accuracy: 0.8671752299753197\n"
     ]
    }
   ],
   "source": [
    "#X_train, X_test, y_train, y_test = train_test_split(X, y, test_size=0.2)\n",
    "W,costs = train(X,y)"
   ]
  },
  {
   "cell_type": "code",
   "execution_count": null,
   "metadata": {},
   "outputs": [],
   "source": []
  }
 ],
 "metadata": {
  "kernelspec": {
   "display_name": "Python 3",
   "language": "python",
   "name": "python3"
  },
  "language_info": {
   "codemirror_mode": {
    "name": "ipython",
    "version": 3
   },
   "file_extension": ".py",
   "mimetype": "text/x-python",
   "name": "python",
   "nbconvert_exporter": "python",
   "pygments_lexer": "ipython3",
   "version": "3.5.2"
  }
 },
 "nbformat": 4,
 "nbformat_minor": 2
}
