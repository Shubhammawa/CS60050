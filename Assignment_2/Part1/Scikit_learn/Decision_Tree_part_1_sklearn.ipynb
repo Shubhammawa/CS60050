{
 "cells": [
  {
   "cell_type": "code",
   "execution_count": 158,
   "metadata": {},
   "outputs": [],
   "source": [
    "import numpy as np\n",
    "from sklearn.tree import DecisionTreeClassifier\n",
    "import pandas as pd\n",
    "from sklearn.metrics import accuracy_score"
   ]
  },
  {
   "cell_type": "code",
   "execution_count": 160,
   "metadata": {},
   "outputs": [],
   "source": [
    "Train_data = pd.read_csv('Data_Part1/Train_data_part1.csv').values\n",
    "Test_data = pd.read_csv('Data_Part1/Test_data_part1.csv').values"
   ]
  },
  {
   "cell_type": "code",
   "execution_count": 161,
   "metadata": {},
   "outputs": [
    {
     "name": "stdout",
     "output_type": "stream",
     "text": [
      "[['med' 'high' 5 'no' 'yes']\n",
      " ['low' 'low' 4 'no' 'yes']]\n"
     ]
    }
   ],
   "source": [
    "print(Test_data)"
   ]
  },
  {
   "cell_type": "code",
   "execution_count": 162,
   "metadata": {},
   "outputs": [],
   "source": [
    "X_train = Train_data[:,:4]\n",
    "Y_train = Train_data[:,4]\n",
    "\n",
    "X_test = Test_data[:,:4]\n",
    "Y_test = Test_data[:,4]"
   ]
  },
  {
   "cell_type": "code",
   "execution_count": 163,
   "metadata": {},
   "outputs": [
    {
     "name": "stdout",
     "output_type": "stream",
     "text": [
      "[['low' 'low' 2 'no']\n",
      " ['low' 'med' 4 'yes']\n",
      " ['low' 'high' 4 'no']\n",
      " ['med' 'med' 4 'no']\n",
      " ['med' 'med' 4 'yes']\n",
      " ['med' 'high' 2 'yes']\n",
      " ['high' 'med' 4 'yes']\n",
      " ['high' 'high' 2 'yes']\n",
      " ['high' 'high' 5 'yes']]\n",
      "['yes' 'no' 'no' 'no' 'yes' 'no' 'yes' 'no' 'yes']\n",
      "[['med' 'high' 5 'no']\n",
      " ['low' 'low' 4 'no']]\n"
     ]
    }
   ],
   "source": [
    "print(X_train)\n",
    "print(Y_train)\n",
    "print(X_test)"
   ]
  },
  {
   "cell_type": "code",
   "execution_count": 164,
   "metadata": {},
   "outputs": [],
   "source": [
    "# Conversion of strings into integer types\n",
    "\n",
    "# Price and Maintenance are ordinal variables, Airbag is a categorical variable.\n",
    "# Profitable is also a categorical variable.\n",
    "#from sklearn.preprocessing import OrdinalEncoder\n",
    "from sklearn.preprocessing import LabelEncoder\n",
    "\n",
    "LE1 = LabelEncoder()\n",
    "LE2 = LabelEncoder()\n",
    "LE3 = LabelEncoder()\n",
    "LE4 = LabelEncoder()\n",
    "\n",
    "\n",
    "LE1.fit(X_train[:,3])\n",
    "LE2.fit(Y_train)\n",
    "LE3.fit(X_train[:,0])\n",
    "LE4.fit(X_train[:,1])\n",
    "\n",
    "X_train[:,3] = LE1.transform(X_train[:,3])\n",
    "X_test[:,3] = LE1.transform(X_test[:,3])\n",
    "Y_train = LE2.transform(Y_train)\n",
    "Y_test = LE2.transform(Y_test)\n",
    "\n",
    "X_train[:,0] = LE3.transform(X_train[:,0])\n",
    "X_train[:,0] = np.where(X_train[:,0]==0,int(3),X_train[:,0])\n",
    "\n",
    "X_test[:,0] = LE3.transform(X_test[:,0])\n",
    "X_test[:,0] = np.where(X_test[:,0]==0,int(3),X_test[:,0])\n",
    "\n",
    "X_train[:,1] = LE4.transform(X_train[:,1])\n",
    "X_train[:,1] = np.where(X_train[:,1]==0,int(3),X_train[:,1])\n",
    "\n",
    "X_test[:,1] = LE4.transform(X_test[:,1])\n",
    "X_test[:,1] = np.where(X_test[:,1]==0,int(3),X_test[:,1])"
   ]
  },
  {
   "cell_type": "code",
   "execution_count": 165,
   "metadata": {},
   "outputs": [
    {
     "name": "stdout",
     "output_type": "stream",
     "text": [
      "[[1 1 2 0]\n",
      " [1 2 4 1]\n",
      " [1 3 4 0]\n",
      " [2 2 4 0]\n",
      " [2 2 4 1]\n",
      " [2 3 2 1]\n",
      " [3 2 4 1]\n",
      " [3 3 2 1]\n",
      " [3 3 5 1]]\n",
      "\n",
      " [[2 3 5 0]\n",
      " [1 1 4 0]]\n"
     ]
    }
   ],
   "source": [
    "print(X_train)\n",
    "print(\"\\n\",X_test)"
   ]
  },
  {
   "cell_type": "code",
   "execution_count": 166,
   "metadata": {},
   "outputs": [
    {
     "name": "stdout",
     "output_type": "stream",
     "text": [
      "[1 0 0 0 1 0 1 0 1]\n"
     ]
    }
   ],
   "source": [
    "print(Y_train)"
   ]
  },
  {
   "cell_type": "code",
   "execution_count": 167,
   "metadata": {},
   "outputs": [],
   "source": [
    "# Using Gini index\n",
    "DT = DecisionTreeClassifier(criterion='gini')\n",
    "DT.fit(X_train,Y_train)\n",
    "Y_pred = DT.predict(X_test)"
   ]
  },
  {
   "cell_type": "code",
   "execution_count": 168,
   "metadata": {},
   "outputs": [
    {
     "name": "stdout",
     "output_type": "stream",
     "text": [
      "[1 1]\n"
     ]
    }
   ],
   "source": [
    "print(Y_pred)"
   ]
  },
  {
   "cell_type": "code",
   "execution_count": 169,
   "metadata": {},
   "outputs": [
    {
     "name": "stdout",
     "output_type": "stream",
     "text": [
      "Test Accuracy =  1.0\n"
     ]
    }
   ],
   "source": [
    "Test_acc = accuracy_score(Y_test,Y_pred)\n",
    "print(\"Test Accuracy = \",Test_acc)"
   ]
  },
  {
   "cell_type": "code",
   "execution_count": 170,
   "metadata": {},
   "outputs": [
    {
     "name": "stdout",
     "output_type": "stream",
     "text": [
      "{'criterion': 'gini', 'min_samples_leaf': 1, 'min_impurity_decrease': 0.0, 'random_state': None, 'max_leaf_nodes': None, 'min_samples_split': 2, 'splitter': 'best', 'max_features': None, 'presort': False, 'max_depth': None, 'class_weight': None, 'min_weight_fraction_leaf': 0.0, 'min_impurity_split': None}\n"
     ]
    }
   ],
   "source": [
    "print(DT.get_params())"
   ]
  },
  {
   "cell_type": "code",
   "execution_count": 171,
   "metadata": {},
   "outputs": [],
   "source": [
    "#print(DT.decision_path(X_train))"
   ]
  },
  {
   "cell_type": "code",
   "execution_count": 172,
   "metadata": {},
   "outputs": [],
   "source": [
    "#print(DT.feature_importances_)"
   ]
  },
  {
   "cell_type": "code",
   "execution_count": 173,
   "metadata": {},
   "outputs": [],
   "source": [
    "import graphviz\n",
    "from sklearn import tree"
   ]
  },
  {
   "cell_type": "code",
   "execution_count": 174,
   "metadata": {},
   "outputs": [
    {
     "data": {
      "text/plain": [
       "'Cars_gini.pdf'"
      ]
     },
     "execution_count": 174,
     "metadata": {},
     "output_type": "execute_result"
    }
   ],
   "source": [
    "data = tree.export_graphviz(DT, out_file=None, feature_names=['price','maintenance','capacity','airbag'],filled=True\n",
    "                           ,rounded=True,special_characters=True)\n",
    "graph = graphviz.Source(data)\n",
    "graph.render(\"Cars_gini\")"
   ]
  },
  {
   "cell_type": "code",
   "execution_count": 175,
   "metadata": {},
   "outputs": [
    {
     "data": {
      "image/svg+xml": [
       "<?xml version=\"1.0\" encoding=\"UTF-8\" standalone=\"no\"?>\n",
       "<!DOCTYPE svg PUBLIC \"-//W3C//DTD SVG 1.1//EN\"\n",
       " \"http://www.w3.org/Graphics/SVG/1.1/DTD/svg11.dtd\">\n",
       "<!-- Generated by graphviz version 2.38.0 (20140413.2041)\n",
       " -->\n",
       "<!-- Title: Tree Pages: 1 -->\n",
       "<svg width=\"345pt\" height=\"581pt\"\n",
       " viewBox=\"0.00 0.00 345.00 581.00\" xmlns=\"http://www.w3.org/2000/svg\" xmlns:xlink=\"http://www.w3.org/1999/xlink\">\n",
       "<g id=\"graph0\" class=\"graph\" transform=\"scale(1 1) rotate(0) translate(4 577)\">\n",
       "<title>Tree</title>\n",
       "<polygon fill=\"white\" stroke=\"none\" points=\"-4,4 -4,-577 341,-577 341,4 -4,4\"/>\n",
       "<!-- 0 -->\n",
       "<g id=\"node1\" class=\"node\"><title>0</title>\n",
       "<path fill=\"#e58139\" fill-opacity=\"0.200000\" stroke=\"black\" d=\"M219,-573C219,-573 114,-573 114,-573 108,-573 102,-567 102,-561 102,-561 102,-517 102,-517 102,-511 108,-505 114,-505 114,-505 219,-505 219,-505 225,-505 231,-511 231,-517 231,-517 231,-561 231,-561 231,-567 225,-573 219,-573\"/>\n",
       "<text text-anchor=\"start\" x=\"110\" y=\"-557.8\" font-family=\"Helvetica,sans-Serif\" font-size=\"14.00\">maintenance ≤ 1.5</text>\n",
       "<text text-anchor=\"start\" x=\"131\" y=\"-542.8\" font-family=\"Helvetica,sans-Serif\" font-size=\"14.00\">gini = 0.494</text>\n",
       "<text text-anchor=\"start\" x=\"129\" y=\"-527.8\" font-family=\"Helvetica,sans-Serif\" font-size=\"14.00\">samples = 9</text>\n",
       "<text text-anchor=\"start\" x=\"127\" y=\"-512.8\" font-family=\"Helvetica,sans-Serif\" font-size=\"14.00\">value = [5, 4]</text>\n",
       "</g>\n",
       "<!-- 1 -->\n",
       "<g id=\"node2\" class=\"node\"><title>1</title>\n",
       "<path fill=\"#399de5\" stroke=\"black\" d=\"M144,-461.5C144,-461.5 73,-461.5 73,-461.5 67,-461.5 61,-455.5 61,-449.5 61,-449.5 61,-420.5 61,-420.5 61,-414.5 67,-408.5 73,-408.5 73,-408.5 144,-408.5 144,-408.5 150,-408.5 156,-414.5 156,-420.5 156,-420.5 156,-449.5 156,-449.5 156,-455.5 150,-461.5 144,-461.5\"/>\n",
       "<text text-anchor=\"start\" x=\"80.5\" y=\"-446.3\" font-family=\"Helvetica,sans-Serif\" font-size=\"14.00\">gini = 0.0</text>\n",
       "<text text-anchor=\"start\" x=\"71\" y=\"-431.3\" font-family=\"Helvetica,sans-Serif\" font-size=\"14.00\">samples = 1</text>\n",
       "<text text-anchor=\"start\" x=\"69\" y=\"-416.3\" font-family=\"Helvetica,sans-Serif\" font-size=\"14.00\">value = [0, 1]</text>\n",
       "</g>\n",
       "<!-- 0&#45;&gt;1 -->\n",
       "<g id=\"edge1\" class=\"edge\"><title>0&#45;&gt;1</title>\n",
       "<path fill=\"none\" stroke=\"black\" d=\"M147.669,-504.884C141.415,-493.886 134.439,-481.617 128.127,-470.517\"/>\n",
       "<polygon fill=\"black\" stroke=\"black\" points=\"130.997,-468.483 123.011,-461.52 124.912,-471.943 130.997,-468.483\"/>\n",
       "<text text-anchor=\"middle\" x=\"116.382\" y=\"-481.925\" font-family=\"Helvetica,sans-Serif\" font-size=\"14.00\">True</text>\n",
       "</g>\n",
       "<!-- 2 -->\n",
       "<g id=\"node3\" class=\"node\"><title>2</title>\n",
       "<path fill=\"#e58139\" fill-opacity=\"0.400000\" stroke=\"black\" d=\"M263,-469C263,-469 186,-469 186,-469 180,-469 174,-463 174,-457 174,-457 174,-413 174,-413 174,-407 180,-401 186,-401 186,-401 263,-401 263,-401 269,-401 275,-407 275,-413 275,-413 275,-457 275,-457 275,-463 269,-469 263,-469\"/>\n",
       "<text text-anchor=\"start\" x=\"182\" y=\"-453.8\" font-family=\"Helvetica,sans-Serif\" font-size=\"14.00\">capacity ≤ 4.5</text>\n",
       "<text text-anchor=\"start\" x=\"189\" y=\"-438.8\" font-family=\"Helvetica,sans-Serif\" font-size=\"14.00\">gini = 0.469</text>\n",
       "<text text-anchor=\"start\" x=\"187\" y=\"-423.8\" font-family=\"Helvetica,sans-Serif\" font-size=\"14.00\">samples = 8</text>\n",
       "<text text-anchor=\"start\" x=\"185\" y=\"-408.8\" font-family=\"Helvetica,sans-Serif\" font-size=\"14.00\">value = [5, 3]</text>\n",
       "</g>\n",
       "<!-- 0&#45;&gt;2 -->\n",
       "<g id=\"edge2\" class=\"edge\"><title>0&#45;&gt;2</title>\n",
       "<path fill=\"none\" stroke=\"black\" d=\"M185.331,-504.884C190.193,-496.332 195.492,-487.013 200.577,-478.072\"/>\n",
       "<polygon fill=\"black\" stroke=\"black\" points=\"203.665,-479.722 205.565,-469.299 197.579,-476.262 203.665,-479.722\"/>\n",
       "<text text-anchor=\"middle\" x=\"212.194\" y=\"-489.704\" font-family=\"Helvetica,sans-Serif\" font-size=\"14.00\">False</text>\n",
       "</g>\n",
       "<!-- 3 -->\n",
       "<g id=\"node4\" class=\"node\"><title>3</title>\n",
       "<path fill=\"#e58139\" fill-opacity=\"0.600000\" stroke=\"black\" d=\"M212,-365C212,-365 107,-365 107,-365 101,-365 95,-359 95,-353 95,-353 95,-309 95,-309 95,-303 101,-297 107,-297 107,-297 212,-297 212,-297 218,-297 224,-303 224,-309 224,-309 224,-353 224,-353 224,-359 218,-365 212,-365\"/>\n",
       "<text text-anchor=\"start\" x=\"103\" y=\"-349.8\" font-family=\"Helvetica,sans-Serif\" font-size=\"14.00\">maintenance ≤ 2.5</text>\n",
       "<text text-anchor=\"start\" x=\"124\" y=\"-334.8\" font-family=\"Helvetica,sans-Serif\" font-size=\"14.00\">gini = 0.408</text>\n",
       "<text text-anchor=\"start\" x=\"122\" y=\"-319.8\" font-family=\"Helvetica,sans-Serif\" font-size=\"14.00\">samples = 7</text>\n",
       "<text text-anchor=\"start\" x=\"120\" y=\"-304.8\" font-family=\"Helvetica,sans-Serif\" font-size=\"14.00\">value = [5, 2]</text>\n",
       "</g>\n",
       "<!-- 2&#45;&gt;3 -->\n",
       "<g id=\"edge3\" class=\"edge\"><title>2&#45;&gt;3</title>\n",
       "<path fill=\"none\" stroke=\"black\" d=\"M203.396,-400.884C197.89,-392.243 191.885,-382.819 186.133,-373.793\"/>\n",
       "<polygon fill=\"black\" stroke=\"black\" points=\"189.046,-371.852 180.72,-365.299 183.143,-375.614 189.046,-371.852\"/>\n",
       "</g>\n",
       "<!-- 10 -->\n",
       "<g id=\"node11\" class=\"node\"><title>10</title>\n",
       "<path fill=\"#399de5\" stroke=\"black\" d=\"M325,-357.5C325,-357.5 254,-357.5 254,-357.5 248,-357.5 242,-351.5 242,-345.5 242,-345.5 242,-316.5 242,-316.5 242,-310.5 248,-304.5 254,-304.5 254,-304.5 325,-304.5 325,-304.5 331,-304.5 337,-310.5 337,-316.5 337,-316.5 337,-345.5 337,-345.5 337,-351.5 331,-357.5 325,-357.5\"/>\n",
       "<text text-anchor=\"start\" x=\"261.5\" y=\"-342.3\" font-family=\"Helvetica,sans-Serif\" font-size=\"14.00\">gini = 0.0</text>\n",
       "<text text-anchor=\"start\" x=\"252\" y=\"-327.3\" font-family=\"Helvetica,sans-Serif\" font-size=\"14.00\">samples = 1</text>\n",
       "<text text-anchor=\"start\" x=\"250\" y=\"-312.3\" font-family=\"Helvetica,sans-Serif\" font-size=\"14.00\">value = [0, 1]</text>\n",
       "</g>\n",
       "<!-- 2&#45;&gt;10 -->\n",
       "<g id=\"edge10\" class=\"edge\"><title>2&#45;&gt;10</title>\n",
       "<path fill=\"none\" stroke=\"black\" d=\"M245.604,-400.884C252.682,-389.776 260.587,-377.372 267.716,-366.184\"/>\n",
       "<polygon fill=\"black\" stroke=\"black\" points=\"270.815,-367.834 273.237,-357.52 264.912,-364.072 270.815,-367.834\"/>\n",
       "</g>\n",
       "<!-- 4 -->\n",
       "<g id=\"node5\" class=\"node\"><title>4</title>\n",
       "<path fill=\"none\" stroke=\"black\" d=\"M139,-261C139,-261 68,-261 68,-261 62,-261 56,-255 56,-249 56,-249 56,-205 56,-205 56,-199 62,-193 68,-193 68,-193 139,-193 139,-193 145,-193 151,-199 151,-205 151,-205 151,-249 151,-249 151,-255 145,-261 139,-261\"/>\n",
       "<text text-anchor=\"start\" x=\"71.5\" y=\"-245.8\" font-family=\"Helvetica,sans-Serif\" font-size=\"14.00\">price ≤ 1.5</text>\n",
       "<text text-anchor=\"start\" x=\"75.5\" y=\"-230.8\" font-family=\"Helvetica,sans-Serif\" font-size=\"14.00\">gini = 0.5</text>\n",
       "<text text-anchor=\"start\" x=\"66\" y=\"-215.8\" font-family=\"Helvetica,sans-Serif\" font-size=\"14.00\">samples = 4</text>\n",
       "<text text-anchor=\"start\" x=\"64\" y=\"-200.8\" font-family=\"Helvetica,sans-Serif\" font-size=\"14.00\">value = [2, 2]</text>\n",
       "</g>\n",
       "<!-- 3&#45;&gt;4 -->\n",
       "<g id=\"edge4\" class=\"edge\"><title>3&#45;&gt;4</title>\n",
       "<path fill=\"none\" stroke=\"black\" d=\"M141.318,-296.884C136.624,-288.332 131.507,-279.013 126.598,-270.072\"/>\n",
       "<polygon fill=\"black\" stroke=\"black\" points=\"129.663,-268.381 121.782,-261.299 123.527,-271.75 129.663,-268.381\"/>\n",
       "</g>\n",
       "<!-- 9 -->\n",
       "<g id=\"node10\" class=\"node\"><title>9</title>\n",
       "<path fill=\"#e58139\" stroke=\"black\" d=\"M252,-253.5C252,-253.5 181,-253.5 181,-253.5 175,-253.5 169,-247.5 169,-241.5 169,-241.5 169,-212.5 169,-212.5 169,-206.5 175,-200.5 181,-200.5 181,-200.5 252,-200.5 252,-200.5 258,-200.5 264,-206.5 264,-212.5 264,-212.5 264,-241.5 264,-241.5 264,-247.5 258,-253.5 252,-253.5\"/>\n",
       "<text text-anchor=\"start\" x=\"188.5\" y=\"-238.3\" font-family=\"Helvetica,sans-Serif\" font-size=\"14.00\">gini = 0.0</text>\n",
       "<text text-anchor=\"start\" x=\"179\" y=\"-223.3\" font-family=\"Helvetica,sans-Serif\" font-size=\"14.00\">samples = 3</text>\n",
       "<text text-anchor=\"start\" x=\"177\" y=\"-208.3\" font-family=\"Helvetica,sans-Serif\" font-size=\"14.00\">value = [3, 0]</text>\n",
       "</g>\n",
       "<!-- 3&#45;&gt;9 -->\n",
       "<g id=\"edge9\" class=\"edge\"><title>3&#45;&gt;9</title>\n",
       "<path fill=\"none\" stroke=\"black\" d=\"M178.006,-296.884C184.152,-285.886 191.008,-273.617 197.211,-262.517\"/>\n",
       "<polygon fill=\"black\" stroke=\"black\" points=\"200.416,-263.957 202.239,-253.52 194.305,-260.542 200.416,-263.957\"/>\n",
       "</g>\n",
       "<!-- 5 -->\n",
       "<g id=\"node6\" class=\"node\"><title>5</title>\n",
       "<path fill=\"#e58139\" stroke=\"black\" d=\"M83,-149.5C83,-149.5 12,-149.5 12,-149.5 6,-149.5 0,-143.5 0,-137.5 0,-137.5 0,-108.5 0,-108.5 0,-102.5 6,-96.5 12,-96.5 12,-96.5 83,-96.5 83,-96.5 89,-96.5 95,-102.5 95,-108.5 95,-108.5 95,-137.5 95,-137.5 95,-143.5 89,-149.5 83,-149.5\"/>\n",
       "<text text-anchor=\"start\" x=\"19.5\" y=\"-134.3\" font-family=\"Helvetica,sans-Serif\" font-size=\"14.00\">gini = 0.0</text>\n",
       "<text text-anchor=\"start\" x=\"10\" y=\"-119.3\" font-family=\"Helvetica,sans-Serif\" font-size=\"14.00\">samples = 1</text>\n",
       "<text text-anchor=\"start\" x=\"8\" y=\"-104.3\" font-family=\"Helvetica,sans-Serif\" font-size=\"14.00\">value = [1, 0]</text>\n",
       "</g>\n",
       "<!-- 4&#45;&gt;5 -->\n",
       "<g id=\"edge5\" class=\"edge\"><title>4&#45;&gt;5</title>\n",
       "<path fill=\"none\" stroke=\"black\" d=\"M85.3184,-192.884C79.2804,-181.886 72.5448,-169.617 66.4503,-158.517\"/>\n",
       "<polygon fill=\"black\" stroke=\"black\" points=\"69.3916,-156.601 61.5109,-149.52 63.2556,-159.97 69.3916,-156.601\"/>\n",
       "</g>\n",
       "<!-- 6 -->\n",
       "<g id=\"node7\" class=\"node\"><title>6</title>\n",
       "<path fill=\"#399de5\" fill-opacity=\"0.498039\" stroke=\"black\" d=\"M196,-157C196,-157 125,-157 125,-157 119,-157 113,-151 113,-145 113,-145 113,-101 113,-101 113,-95 119,-89 125,-89 125,-89 196,-89 196,-89 202,-89 208,-95 208,-101 208,-101 208,-145 208,-145 208,-151 202,-157 196,-157\"/>\n",
       "<text text-anchor=\"start\" x=\"124\" y=\"-141.8\" font-family=\"Helvetica,sans-Serif\" font-size=\"14.00\">airbag ≤ 0.5</text>\n",
       "<text text-anchor=\"start\" x=\"125\" y=\"-126.8\" font-family=\"Helvetica,sans-Serif\" font-size=\"14.00\">gini = 0.444</text>\n",
       "<text text-anchor=\"start\" x=\"123\" y=\"-111.8\" font-family=\"Helvetica,sans-Serif\" font-size=\"14.00\">samples = 3</text>\n",
       "<text text-anchor=\"start\" x=\"121\" y=\"-96.8\" font-family=\"Helvetica,sans-Serif\" font-size=\"14.00\">value = [1, 2]</text>\n",
       "</g>\n",
       "<!-- 4&#45;&gt;6 -->\n",
       "<g id=\"edge6\" class=\"edge\"><title>4&#45;&gt;6</title>\n",
       "<path fill=\"none\" stroke=\"black\" d=\"M122.006,-192.884C126.785,-184.332 131.993,-175.013 136.989,-166.072\"/>\n",
       "<polygon fill=\"black\" stroke=\"black\" points=\"140.069,-167.736 141.892,-157.299 133.958,-164.321 140.069,-167.736\"/>\n",
       "</g>\n",
       "<!-- 7 -->\n",
       "<g id=\"node8\" class=\"node\"><title>7</title>\n",
       "<path fill=\"#e58139\" stroke=\"black\" d=\"M139,-53C139,-53 68,-53 68,-53 62,-53 56,-47 56,-41 56,-41 56,-12 56,-12 56,-6 62,-0 68,-0 68,-0 139,-0 139,-0 145,-0 151,-6 151,-12 151,-12 151,-41 151,-41 151,-47 145,-53 139,-53\"/>\n",
       "<text text-anchor=\"start\" x=\"75.5\" y=\"-37.8\" font-family=\"Helvetica,sans-Serif\" font-size=\"14.00\">gini = 0.0</text>\n",
       "<text text-anchor=\"start\" x=\"66\" y=\"-22.8\" font-family=\"Helvetica,sans-Serif\" font-size=\"14.00\">samples = 1</text>\n",
       "<text text-anchor=\"start\" x=\"64\" y=\"-7.8\" font-family=\"Helvetica,sans-Serif\" font-size=\"14.00\">value = [1, 0]</text>\n",
       "</g>\n",
       "<!-- 6&#45;&gt;7 -->\n",
       "<g id=\"edge7\" class=\"edge\"><title>6&#45;&gt;7</title>\n",
       "<path fill=\"none\" stroke=\"black\" d=\"M140.564,-88.9485C135.267,-80.1664 129.535,-70.6629 124.198,-61.815\"/>\n",
       "<polygon fill=\"black\" stroke=\"black\" points=\"127.186,-59.9919 119.024,-53.2367 121.192,-63.6074 127.186,-59.9919\"/>\n",
       "</g>\n",
       "<!-- 8 -->\n",
       "<g id=\"node9\" class=\"node\"><title>8</title>\n",
       "<path fill=\"#399de5\" stroke=\"black\" d=\"M252,-53C252,-53 181,-53 181,-53 175,-53 169,-47 169,-41 169,-41 169,-12 169,-12 169,-6 175,-0 181,-0 181,-0 252,-0 252,-0 258,-0 264,-6 264,-12 264,-12 264,-41 264,-41 264,-47 258,-53 252,-53\"/>\n",
       "<text text-anchor=\"start\" x=\"188.5\" y=\"-37.8\" font-family=\"Helvetica,sans-Serif\" font-size=\"14.00\">gini = 0.0</text>\n",
       "<text text-anchor=\"start\" x=\"179\" y=\"-22.8\" font-family=\"Helvetica,sans-Serif\" font-size=\"14.00\">samples = 2</text>\n",
       "<text text-anchor=\"start\" x=\"177\" y=\"-7.8\" font-family=\"Helvetica,sans-Serif\" font-size=\"14.00\">value = [0, 2]</text>\n",
       "</g>\n",
       "<!-- 6&#45;&gt;8 -->\n",
       "<g id=\"edge8\" class=\"edge\"><title>6&#45;&gt;8</title>\n",
       "<path fill=\"none\" stroke=\"black\" d=\"M180.086,-88.9485C185.236,-80.2579 190.805,-70.8608 196.001,-62.0917\"/>\n",
       "<polygon fill=\"black\" stroke=\"black\" points=\"199.162,-63.624 201.249,-53.2367 193.14,-60.0553 199.162,-63.624\"/>\n",
       "</g>\n",
       "</g>\n",
       "</svg>\n"
      ],
      "text/plain": [
       "<graphviz.files.Source at 0x7f0219d727f0>"
      ]
     },
     "execution_count": 175,
     "metadata": {},
     "output_type": "execute_result"
    }
   ],
   "source": [
    "graph"
   ]
  },
  {
   "cell_type": "code",
   "execution_count": 176,
   "metadata": {},
   "outputs": [],
   "source": [
    "# Using Information Gain\n",
    "DT = DecisionTreeClassifier(criterion='entropy')\n",
    "DT.fit(X_train,Y_train)\n",
    "Y_pred = DT.predict(X_test)"
   ]
  },
  {
   "cell_type": "code",
   "execution_count": 177,
   "metadata": {},
   "outputs": [
    {
     "name": "stdout",
     "output_type": "stream",
     "text": [
      "[0 1]\n",
      "Test Accuracy =  0.5\n"
     ]
    }
   ],
   "source": [
    "print(Y_pred)\n",
    "Test_acc = accuracy_score(Y_test,Y_pred)\n",
    "print(\"Test Accuracy = \",Test_acc)"
   ]
  },
  {
   "cell_type": "code",
   "execution_count": 178,
   "metadata": {},
   "outputs": [
    {
     "data": {
      "text/plain": [
       "'Cars_entropy.pdf'"
      ]
     },
     "execution_count": 178,
     "metadata": {},
     "output_type": "execute_result"
    }
   ],
   "source": [
    "data = tree.export_graphviz(DT, out_file=None, feature_names=['price','maintenance','capacity','airbag'],filled=True\n",
    "                           ,rounded=True,special_characters=True)\n",
    "graph = graphviz.Source(data)\n",
    "graph.render(\"Cars_entropy\")"
   ]
  },
  {
   "cell_type": "code",
   "execution_count": 179,
   "metadata": {},
   "outputs": [
    {
     "data": {
      "image/svg+xml": [
       "<?xml version=\"1.0\" encoding=\"UTF-8\" standalone=\"no\"?>\n",
       "<!DOCTYPE svg PUBLIC \"-//W3C//DTD SVG 1.1//EN\"\n",
       " \"http://www.w3.org/Graphics/SVG/1.1/DTD/svg11.dtd\">\n",
       "<!-- Generated by graphviz version 2.38.0 (20140413.2041)\n",
       " -->\n",
       "<!-- Title: Tree Pages: 1 -->\n",
       "<svg width=\"401pt\" height=\"477pt\"\n",
       " viewBox=\"0.00 0.00 401.00 477.00\" xmlns=\"http://www.w3.org/2000/svg\" xmlns:xlink=\"http://www.w3.org/1999/xlink\">\n",
       "<g id=\"graph0\" class=\"graph\" transform=\"scale(1 1) rotate(0) translate(4 473)\">\n",
       "<title>Tree</title>\n",
       "<polygon fill=\"white\" stroke=\"none\" points=\"-4,4 -4,-473 397,-473 397,4 -4,4\"/>\n",
       "<!-- 0 -->\n",
       "<g id=\"node1\" class=\"node\"><title>0</title>\n",
       "<path fill=\"#e58139\" fill-opacity=\"0.200000\" stroke=\"black\" d=\"M161.5,-469C161.5,-469 56.5,-469 56.5,-469 50.5,-469 44.5,-463 44.5,-457 44.5,-457 44.5,-413 44.5,-413 44.5,-407 50.5,-401 56.5,-401 56.5,-401 161.5,-401 161.5,-401 167.5,-401 173.5,-407 173.5,-413 173.5,-413 173.5,-457 173.5,-457 173.5,-463 167.5,-469 161.5,-469\"/>\n",
       "<text text-anchor=\"start\" x=\"52.5\" y=\"-453.8\" font-family=\"Helvetica,sans-Serif\" font-size=\"14.00\">maintenance ≤ 1.5</text>\n",
       "<text text-anchor=\"start\" x=\"61.5\" y=\"-438.8\" font-family=\"Helvetica,sans-Serif\" font-size=\"14.00\">entropy = 0.991</text>\n",
       "<text text-anchor=\"start\" x=\"71.5\" y=\"-423.8\" font-family=\"Helvetica,sans-Serif\" font-size=\"14.00\">samples = 9</text>\n",
       "<text text-anchor=\"start\" x=\"69.5\" y=\"-408.8\" font-family=\"Helvetica,sans-Serif\" font-size=\"14.00\">value = [5, 4]</text>\n",
       "</g>\n",
       "<!-- 1 -->\n",
       "<g id=\"node2\" class=\"node\"><title>1</title>\n",
       "<path fill=\"#399de5\" stroke=\"black\" d=\"M84,-357.5C84,-357.5 12,-357.5 12,-357.5 6,-357.5 0,-351.5 0,-345.5 0,-345.5 0,-316.5 0,-316.5 0,-310.5 6,-304.5 12,-304.5 12,-304.5 84,-304.5 84,-304.5 90,-304.5 96,-310.5 96,-316.5 96,-316.5 96,-345.5 96,-345.5 96,-351.5 90,-357.5 84,-357.5\"/>\n",
       "<text text-anchor=\"start\" x=\"8\" y=\"-342.3\" font-family=\"Helvetica,sans-Serif\" font-size=\"14.00\">entropy = 0.0</text>\n",
       "<text text-anchor=\"start\" x=\"10.5\" y=\"-327.3\" font-family=\"Helvetica,sans-Serif\" font-size=\"14.00\">samples = 1</text>\n",
       "<text text-anchor=\"start\" x=\"8.5\" y=\"-312.3\" font-family=\"Helvetica,sans-Serif\" font-size=\"14.00\">value = [0, 1]</text>\n",
       "</g>\n",
       "<!-- 0&#45;&gt;1 -->\n",
       "<g id=\"edge1\" class=\"edge\"><title>0&#45;&gt;1</title>\n",
       "<path fill=\"none\" stroke=\"black\" d=\"M89.195,-400.884C82.5521,-389.776 75.1342,-377.372 68.4433,-366.184\"/>\n",
       "<polygon fill=\"black\" stroke=\"black\" points=\"71.3984,-364.306 63.2619,-357.52 65.3907,-367.899 71.3984,-364.306\"/>\n",
       "<text text-anchor=\"middle\" x=\"57.1635\" y=\"-378.065\" font-family=\"Helvetica,sans-Serif\" font-size=\"14.00\">True</text>\n",
       "</g>\n",
       "<!-- 2 -->\n",
       "<g id=\"node3\" class=\"node\"><title>2</title>\n",
       "<path fill=\"#e58139\" fill-opacity=\"0.400000\" stroke=\"black\" d=\"M213.5,-365C213.5,-365 126.5,-365 126.5,-365 120.5,-365 114.5,-359 114.5,-353 114.5,-353 114.5,-309 114.5,-309 114.5,-303 120.5,-297 126.5,-297 126.5,-297 213.5,-297 213.5,-297 219.5,-297 225.5,-303 225.5,-309 225.5,-309 225.5,-353 225.5,-353 225.5,-359 219.5,-365 213.5,-365\"/>\n",
       "<text text-anchor=\"start\" x=\"127.5\" y=\"-349.8\" font-family=\"Helvetica,sans-Serif\" font-size=\"14.00\">capacity ≤ 3.0</text>\n",
       "<text text-anchor=\"start\" x=\"122.5\" y=\"-334.8\" font-family=\"Helvetica,sans-Serif\" font-size=\"14.00\">entropy = 0.954</text>\n",
       "<text text-anchor=\"start\" x=\"132.5\" y=\"-319.8\" font-family=\"Helvetica,sans-Serif\" font-size=\"14.00\">samples = 8</text>\n",
       "<text text-anchor=\"start\" x=\"130.5\" y=\"-304.8\" font-family=\"Helvetica,sans-Serif\" font-size=\"14.00\">value = [5, 3]</text>\n",
       "</g>\n",
       "<!-- 0&#45;&gt;2 -->\n",
       "<g id=\"edge2\" class=\"edge\"><title>0&#45;&gt;2</title>\n",
       "<path fill=\"none\" stroke=\"black\" d=\"M128.805,-400.884C133.919,-392.332 139.492,-383.013 144.839,-374.072\"/>\n",
       "<polygon fill=\"black\" stroke=\"black\" points=\"147.957,-375.678 150.086,-365.299 141.949,-372.085 147.957,-375.678\"/>\n",
       "<text text-anchor=\"middle\" x=\"156.184\" y=\"-385.844\" font-family=\"Helvetica,sans-Serif\" font-size=\"14.00\">False</text>\n",
       "</g>\n",
       "<!-- 3 -->\n",
       "<g id=\"node4\" class=\"node\"><title>3</title>\n",
       "<path fill=\"#e58139\" stroke=\"black\" d=\"M149,-253.5C149,-253.5 77,-253.5 77,-253.5 71,-253.5 65,-247.5 65,-241.5 65,-241.5 65,-212.5 65,-212.5 65,-206.5 71,-200.5 77,-200.5 77,-200.5 149,-200.5 149,-200.5 155,-200.5 161,-206.5 161,-212.5 161,-212.5 161,-241.5 161,-241.5 161,-247.5 155,-253.5 149,-253.5\"/>\n",
       "<text text-anchor=\"start\" x=\"73\" y=\"-238.3\" font-family=\"Helvetica,sans-Serif\" font-size=\"14.00\">entropy = 0.0</text>\n",
       "<text text-anchor=\"start\" x=\"75.5\" y=\"-223.3\" font-family=\"Helvetica,sans-Serif\" font-size=\"14.00\">samples = 2</text>\n",
       "<text text-anchor=\"start\" x=\"73.5\" y=\"-208.3\" font-family=\"Helvetica,sans-Serif\" font-size=\"14.00\">value = [2, 0]</text>\n",
       "</g>\n",
       "<!-- 2&#45;&gt;3 -->\n",
       "<g id=\"edge3\" class=\"edge\"><title>2&#45;&gt;3</title>\n",
       "<path fill=\"none\" stroke=\"black\" d=\"M151.494,-296.884C145.348,-285.886 138.492,-273.617 132.289,-262.517\"/>\n",
       "<polygon fill=\"black\" stroke=\"black\" points=\"135.195,-260.542 127.261,-253.52 129.084,-263.957 135.195,-260.542\"/>\n",
       "</g>\n",
       "<!-- 4 -->\n",
       "<g id=\"node5\" class=\"node\"><title>4</title>\n",
       "<path fill=\"none\" stroke=\"black\" d=\"M263,-261C263,-261 191,-261 191,-261 185,-261 179,-255 179,-249 179,-249 179,-205 179,-205 179,-199 185,-193 191,-193 191,-193 263,-193 263,-193 269,-193 275,-199 275,-205 275,-205 275,-249 275,-249 275,-255 269,-261 263,-261\"/>\n",
       "<text text-anchor=\"start\" x=\"190.5\" y=\"-245.8\" font-family=\"Helvetica,sans-Serif\" font-size=\"14.00\">airbag ≤ 0.5</text>\n",
       "<text text-anchor=\"start\" x=\"187\" y=\"-230.8\" font-family=\"Helvetica,sans-Serif\" font-size=\"14.00\">entropy = 1.0</text>\n",
       "<text text-anchor=\"start\" x=\"189.5\" y=\"-215.8\" font-family=\"Helvetica,sans-Serif\" font-size=\"14.00\">samples = 6</text>\n",
       "<text text-anchor=\"start\" x=\"187.5\" y=\"-200.8\" font-family=\"Helvetica,sans-Serif\" font-size=\"14.00\">value = [3, 3]</text>\n",
       "</g>\n",
       "<!-- 2&#45;&gt;4 -->\n",
       "<g id=\"edge4\" class=\"edge\"><title>2&#45;&gt;4</title>\n",
       "<path fill=\"none\" stroke=\"black\" d=\"M188.506,-296.884C193.285,-288.332 198.493,-279.013 203.489,-270.072\"/>\n",
       "<polygon fill=\"black\" stroke=\"black\" points=\"206.569,-271.736 208.392,-261.299 200.458,-268.321 206.569,-271.736\"/>\n",
       "</g>\n",
       "<!-- 5 -->\n",
       "<g id=\"node6\" class=\"node\"><title>5</title>\n",
       "<path fill=\"#e58139\" stroke=\"black\" d=\"M202,-149.5C202,-149.5 130,-149.5 130,-149.5 124,-149.5 118,-143.5 118,-137.5 118,-137.5 118,-108.5 118,-108.5 118,-102.5 124,-96.5 130,-96.5 130,-96.5 202,-96.5 202,-96.5 208,-96.5 214,-102.5 214,-108.5 214,-108.5 214,-137.5 214,-137.5 214,-143.5 208,-149.5 202,-149.5\"/>\n",
       "<text text-anchor=\"start\" x=\"126\" y=\"-134.3\" font-family=\"Helvetica,sans-Serif\" font-size=\"14.00\">entropy = 0.0</text>\n",
       "<text text-anchor=\"start\" x=\"128.5\" y=\"-119.3\" font-family=\"Helvetica,sans-Serif\" font-size=\"14.00\">samples = 2</text>\n",
       "<text text-anchor=\"start\" x=\"126.5\" y=\"-104.3\" font-family=\"Helvetica,sans-Serif\" font-size=\"14.00\">value = [2, 0]</text>\n",
       "</g>\n",
       "<!-- 4&#45;&gt;5 -->\n",
       "<g id=\"edge5\" class=\"edge\"><title>4&#45;&gt;5</title>\n",
       "<path fill=\"none\" stroke=\"black\" d=\"M207.195,-192.884C200.552,-181.776 193.134,-169.372 186.443,-158.184\"/>\n",
       "<polygon fill=\"black\" stroke=\"black\" points=\"189.398,-156.306 181.262,-149.52 183.391,-159.899 189.398,-156.306\"/>\n",
       "</g>\n",
       "<!-- 6 -->\n",
       "<g id=\"node7\" class=\"node\"><title>6</title>\n",
       "<path fill=\"#399de5\" fill-opacity=\"0.666667\" stroke=\"black\" d=\"M331.5,-157C331.5,-157 244.5,-157 244.5,-157 238.5,-157 232.5,-151 232.5,-145 232.5,-145 232.5,-101 232.5,-101 232.5,-95 238.5,-89 244.5,-89 244.5,-89 331.5,-89 331.5,-89 337.5,-89 343.5,-95 343.5,-101 343.5,-101 343.5,-145 343.5,-145 343.5,-151 337.5,-157 331.5,-157\"/>\n",
       "<text text-anchor=\"start\" x=\"256\" y=\"-141.8\" font-family=\"Helvetica,sans-Serif\" font-size=\"14.00\">price ≤ 1.5</text>\n",
       "<text text-anchor=\"start\" x=\"240.5\" y=\"-126.8\" font-family=\"Helvetica,sans-Serif\" font-size=\"14.00\">entropy = 0.811</text>\n",
       "<text text-anchor=\"start\" x=\"250.5\" y=\"-111.8\" font-family=\"Helvetica,sans-Serif\" font-size=\"14.00\">samples = 4</text>\n",
       "<text text-anchor=\"start\" x=\"248.5\" y=\"-96.8\" font-family=\"Helvetica,sans-Serif\" font-size=\"14.00\">value = [1, 3]</text>\n",
       "</g>\n",
       "<!-- 4&#45;&gt;6 -->\n",
       "<g id=\"edge6\" class=\"edge\"><title>4&#45;&gt;6</title>\n",
       "<path fill=\"none\" stroke=\"black\" d=\"M246.805,-192.884C251.919,-184.332 257.492,-175.013 262.839,-166.072\"/>\n",
       "<polygon fill=\"black\" stroke=\"black\" points=\"265.957,-167.678 268.086,-157.299 259.949,-164.085 265.957,-167.678\"/>\n",
       "</g>\n",
       "<!-- 7 -->\n",
       "<g id=\"node8\" class=\"node\"><title>7</title>\n",
       "<path fill=\"#e58139\" stroke=\"black\" d=\"M267,-53C267,-53 195,-53 195,-53 189,-53 183,-47 183,-41 183,-41 183,-12 183,-12 183,-6 189,-0 195,-0 195,-0 267,-0 267,-0 273,-0 279,-6 279,-12 279,-12 279,-41 279,-41 279,-47 273,-53 267,-53\"/>\n",
       "<text text-anchor=\"start\" x=\"191\" y=\"-37.8\" font-family=\"Helvetica,sans-Serif\" font-size=\"14.00\">entropy = 0.0</text>\n",
       "<text text-anchor=\"start\" x=\"193.5\" y=\"-22.8\" font-family=\"Helvetica,sans-Serif\" font-size=\"14.00\">samples = 1</text>\n",
       "<text text-anchor=\"start\" x=\"191.5\" y=\"-7.8\" font-family=\"Helvetica,sans-Serif\" font-size=\"14.00\">value = [1, 0]</text>\n",
       "</g>\n",
       "<!-- 6&#45;&gt;7 -->\n",
       "<g id=\"edge7\" class=\"edge\"><title>6&#45;&gt;7</title>\n",
       "<path fill=\"none\" stroke=\"black\" d=\"M268.064,-88.9485C262.767,-80.1664 257.035,-70.6629 251.698,-61.815\"/>\n",
       "<polygon fill=\"black\" stroke=\"black\" points=\"254.686,-59.9919 246.524,-53.2367 248.692,-63.6074 254.686,-59.9919\"/>\n",
       "</g>\n",
       "<!-- 8 -->\n",
       "<g id=\"node9\" class=\"node\"><title>8</title>\n",
       "<path fill=\"#399de5\" stroke=\"black\" d=\"M381,-53C381,-53 309,-53 309,-53 303,-53 297,-47 297,-41 297,-41 297,-12 297,-12 297,-6 303,-0 309,-0 309,-0 381,-0 381,-0 387,-0 393,-6 393,-12 393,-12 393,-41 393,-41 393,-47 387,-53 381,-53\"/>\n",
       "<text text-anchor=\"start\" x=\"305\" y=\"-37.8\" font-family=\"Helvetica,sans-Serif\" font-size=\"14.00\">entropy = 0.0</text>\n",
       "<text text-anchor=\"start\" x=\"307.5\" y=\"-22.8\" font-family=\"Helvetica,sans-Serif\" font-size=\"14.00\">samples = 3</text>\n",
       "<text text-anchor=\"start\" x=\"305.5\" y=\"-7.8\" font-family=\"Helvetica,sans-Serif\" font-size=\"14.00\">value = [0, 3]</text>\n",
       "</g>\n",
       "<!-- 6&#45;&gt;8 -->\n",
       "<g id=\"edge8\" class=\"edge\"><title>6&#45;&gt;8</title>\n",
       "<path fill=\"none\" stroke=\"black\" d=\"M307.936,-88.9485C313.233,-80.1664 318.965,-70.6629 324.302,-61.815\"/>\n",
       "<polygon fill=\"black\" stroke=\"black\" points=\"327.308,-63.6074 329.476,-53.2367 321.314,-59.9919 327.308,-63.6074\"/>\n",
       "</g>\n",
       "</g>\n",
       "</svg>\n"
      ],
      "text/plain": [
       "<graphviz.files.Source at 0x7f0219d6c860>"
      ]
     },
     "execution_count": 179,
     "metadata": {},
     "output_type": "execute_result"
    }
   ],
   "source": [
    "graph"
   ]
  },
  {
   "cell_type": "code",
   "execution_count": null,
   "metadata": {},
   "outputs": [],
   "source": []
  }
 ],
 "metadata": {
  "kernelspec": {
   "display_name": "Python 3",
   "language": "python",
   "name": "python3"
  },
  "language_info": {
   "codemirror_mode": {
    "name": "ipython",
    "version": 3
   },
   "file_extension": ".py",
   "mimetype": "text/x-python",
   "name": "python",
   "nbconvert_exporter": "python",
   "pygments_lexer": "ipython3",
   "version": "3.5.2"
  }
 },
 "nbformat": 4,
 "nbformat_minor": 2
}
