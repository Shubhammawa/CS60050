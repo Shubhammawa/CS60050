{
 "cells": [
  {
   "cell_type": "code",
   "execution_count": 210,
   "metadata": {},
   "outputs": [],
   "source": [
    "import numpy as np\n",
    "from sklearn.tree import DecisionTreeClassifier\n",
    "import pandas as pd\n",
    "from sklearn.metrics import accuracy_score"
   ]
  },
  {
   "cell_type": "code",
   "execution_count": 211,
   "metadata": {},
   "outputs": [],
   "source": [
    "Train_data = pd.read_csv('Data_Part1/Train_data_part1.csv').values\n",
    "Test_data = pd.read_csv('Data_Part1/Test_data_part1.csv').values"
   ]
  },
  {
   "cell_type": "code",
   "execution_count": 212,
   "metadata": {},
   "outputs": [],
   "source": [
    "#print(Test_data)"
   ]
  },
  {
   "cell_type": "code",
   "execution_count": 213,
   "metadata": {},
   "outputs": [],
   "source": [
    "X_train = Train_data[:,:4]\n",
    "Y_train = Train_data[:,4]\n",
    "\n",
    "X_test = Test_data[:,:4]\n",
    "Y_test = Test_data[:,4]"
   ]
  },
  {
   "cell_type": "code",
   "execution_count": 214,
   "metadata": {},
   "outputs": [],
   "source": [
    "# print(X_train)\n",
    "# print(Y_train)\n",
    "# print(X_test)"
   ]
  },
  {
   "cell_type": "code",
   "execution_count": 225,
   "metadata": {},
   "outputs": [],
   "source": [
    "# Conversion of strings into integer types\n",
    "\n",
    "# Price and Maintenance are ordinal variables, Airbag is a categorical variable.\n",
    "# Profitable is also a categorical variable.\n",
    "#from sklearn.preprocessing import OrdinalEncoder\n",
    "from sklearn.preprocessing import LabelEncoder\n",
    "\n",
    "LE1 = LabelEncoder()\n",
    "LE2 = LabelEncoder()\n",
    "LE3 = LabelEncoder()\n",
    "LE4 = LabelEncoder()\n",
    "\n",
    "\n",
    "LE1.fit(X_train[:,3])\n",
    "LE2.fit(Y_train)\n",
    "LE3.fit(X_train[:,0])\n",
    "LE4.fit(X_train[:,1])\n",
    "\n",
    "X_train[:,3] = LE1.transform(X_train[:,3])\n",
    "X_test[:,3] = LE1.transform(X_test[:,3])\n",
    "Y_train = LE2.transform(Y_train)\n",
    "Y_test = LE2.transform(Y_test)\n",
    "\n",
    "X_train[:,0] = LE3.transform(X_train[:,0])\n",
    "X_train[:,0] = np.where(X_train[:,0]==0,int(3),X_train[:,0])\n",
    "\n",
    "X_test[:,0] = LE3.transform(X_test[:,0])\n",
    "X_test[:,0] = np.where(X_test[:,0]==0,int(3),X_test[:,0])\n",
    "\n",
    "X_train[:,1] = LE4.transform(X_train[:,1])\n",
    "X_train[:,1] = np.where(X_train[:,1]==0,int(3),X_train[:,1])\n",
    "\n",
    "X_test[:,1] = LE4.transform(X_test[:,1])\n",
    "X_test[:,1] = np.where(X_test[:,1]==0,int(3),X_test[:,1])"
   ]
  },
  {
   "cell_type": "code",
   "execution_count": 216,
   "metadata": {},
   "outputs": [],
   "source": [
    "# print(X_train)\n",
    "# print(\"\\n\",X_test)"
   ]
  },
  {
   "cell_type": "code",
   "execution_count": 217,
   "metadata": {},
   "outputs": [],
   "source": [
    "#print(Y_train)"
   ]
  },
  {
   "cell_type": "code",
   "execution_count": 240,
   "metadata": {},
   "outputs": [],
   "source": [
    "# Using Gini index\n",
    "DT = DecisionTreeClassifier(criterion='gini')\n",
    "DT.fit(X_train,Y_train)\n",
    "Y_pred = DT.predict(X_test)"
   ]
  },
  {
   "cell_type": "code",
   "execution_count": 241,
   "metadata": {},
   "outputs": [
    {
     "name": "stdout",
     "output_type": "stream",
     "text": [
      "Predictions on test set:\n",
      " [1 1]\n"
     ]
    }
   ],
   "source": [
    "print(\"Predictions on test set:\\n\",Y_pred)"
   ]
  },
  {
   "cell_type": "code",
   "execution_count": 220,
   "metadata": {},
   "outputs": [
    {
     "name": "stdout",
     "output_type": "stream",
     "text": [
      "Test Accuracy =  1.0\n"
     ]
    }
   ],
   "source": [
    "Test_acc = accuracy_score(Y_test,Y_pred)\n",
    "print(\"Test Accuracy = \",Test_acc)"
   ]
  },
  {
   "cell_type": "code",
   "execution_count": 221,
   "metadata": {},
   "outputs": [],
   "source": [
    "#print(DT.get_params())"
   ]
  },
  {
   "cell_type": "code",
   "execution_count": 222,
   "metadata": {},
   "outputs": [],
   "source": [
    "#print(DT.decision_path(X_train))"
   ]
  },
  {
   "cell_type": "code",
   "execution_count": 202,
   "metadata": {},
   "outputs": [],
   "source": [
    "#print(DT.feature_importances_)"
   ]
  },
  {
   "cell_type": "code",
   "execution_count": 203,
   "metadata": {},
   "outputs": [],
   "source": [
    "import graphviz\n",
    "from sklearn import tree"
   ]
  },
  {
   "cell_type": "code",
   "execution_count": 204,
   "metadata": {},
   "outputs": [
    {
     "data": {
      "text/plain": [
       "'Cars_gini.pdf'"
      ]
     },
     "execution_count": 204,
     "metadata": {},
     "output_type": "execute_result"
    }
   ],
   "source": [
    "data = tree.export_graphviz(DT, out_file=None, feature_names=['price','maintenance','capacity','airbag'],filled=True\n",
    "                           ,rounded=True,special_characters=True)\n",
    "graph = graphviz.Source(data)\n",
    "graph.render(\"Cars_gini\")"
   ]
  },
  {
   "cell_type": "code",
   "execution_count": 205,
   "metadata": {},
   "outputs": [],
   "source": [
    "#graph"
   ]
  },
  {
   "cell_type": "code",
   "execution_count": 230,
   "metadata": {},
   "outputs": [],
   "source": [
    "# Using Information Gain\n",
    "DT2 = DecisionTreeClassifier(criterion='entropy')\n",
    "DT2.fit(X_train,Y_train)\n",
    "Y_pred = DT2.predict(X_test)"
   ]
  },
  {
   "cell_type": "code",
   "execution_count": 231,
   "metadata": {},
   "outputs": [
    {
     "name": "stdout",
     "output_type": "stream",
     "text": [
      "Predictions on test set:\n",
      " [1 1]\n",
      "Test Accuracy =  1.0\n"
     ]
    }
   ],
   "source": [
    "print(\"Predictions on test set:\\n\",Y_pred)\n",
    "Test_acc = accuracy_score(Y_test,Y_pred)\n",
    "print(\"Test Accuracy = \",Test_acc)"
   ]
  },
  {
   "cell_type": "code",
   "execution_count": 209,
   "metadata": {},
   "outputs": [
    {
     "data": {
      "text/plain": [
       "'Cars_entropy.pdf'"
      ]
     },
     "execution_count": 209,
     "metadata": {},
     "output_type": "execute_result"
    }
   ],
   "source": [
    "data = tree.export_graphviz(DT, out_file=None, feature_names=['price','maintenance','capacity','airbag'],filled=True\n",
    "                           ,rounded=True,special_characters=True)\n",
    "graph = graphviz.Source(data)\n",
    "graph.render(\"Cars_entropy\")"
   ]
  },
  {
   "cell_type": "code",
   "execution_count": 188,
   "metadata": {},
   "outputs": [],
   "source": [
    "#graph"
   ]
  },
  {
   "cell_type": "code",
   "execution_count": null,
   "metadata": {},
   "outputs": [],
   "source": []
  }
 ],
 "metadata": {
  "kernelspec": {
   "display_name": "Python 3",
   "language": "python",
   "name": "python3"
  },
  "language_info": {
   "codemirror_mode": {
    "name": "ipython",
    "version": 3
   },
   "file_extension": ".py",
   "mimetype": "text/x-python",
   "name": "python",
   "nbconvert_exporter": "python",
   "pygments_lexer": "ipython3",
   "version": "3.5.2"
  }
 },
 "nbformat": 4,
 "nbformat_minor": 2
}
