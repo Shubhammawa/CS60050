{
 "cells": [
  {
   "cell_type": "code",
   "execution_count": null,
   "metadata": {},
   "outputs": [],
   "source": [
    "import numpy as np\n",
    "import pandas as pd"
   ]
  },
  {
   "cell_type": "code",
   "execution_count": null,
   "metadata": {},
   "outputs": [],
   "source": [
    "Train_data = pd.read_csv(\"Data_Part2/traindata.csv\").values\n",
    "print(Train_data)"
   ]
  },
  {
   "cell_type": "code",
   "execution_count": null,
   "metadata": {},
   "outputs": [],
   "source": [
    "words = pd.read_csv(\"Data_Part2/words.csv\").values\n",
    "#print(len(words))\n",
    "print(words[0:10])\n",
    "vocab_size = len(words)\n",
    "print(vocab_size)\n",
    "Labels = pd.read_csv(\"Data_Part2/trainlabel.csv\").values\n",
    "#print(len(Labels))\n",
    "Y_train = Labels[:,0]\n",
    "num_docs = len(Y_train)\n",
    "print(num_docs)"
   ]
  },
  {
   "cell_type": "code",
   "execution_count": null,
   "metadata": {},
   "outputs": [],
   "source": [
    "X_train = np.zeros((num_docs,vocab_size))\n",
    "j = 0\n",
    "for i in Train_data[:,0]:\n",
    "    #print(i)\n",
    "    X_train[i-1,Train_data[j,1]-1] = 1\n",
    "    j+=1"
   ]
  },
  {
   "cell_type": "code",
   "execution_count": null,
   "metadata": {},
   "outputs": [],
   "source": [
    "Test_data = pd.read_csv(\"Data_Part2/testdata.csv\").values\n",
    "print(Test_data)"
   ]
  },
  {
   "cell_type": "code",
   "execution_count": null,
   "metadata": {},
   "outputs": [],
   "source": [
    "Labels_test = pd.read_csv(\"Data_Part2/testlabel.csv\").values\n",
    "#print(len(Labels))\n",
    "Y_test = Labels_test[:,0]\n",
    "num_docs_test = len(Y_test)\n",
    "print(num_docs_test)"
   ]
  },
  {
   "cell_type": "code",
   "execution_count": null,
   "metadata": {},
   "outputs": [],
   "source": [
    "print(X_train)\n",
    "print(Y_train)"
   ]
  },
  {
   "cell_type": "code",
   "execution_count": null,
   "metadata": {},
   "outputs": [],
   "source": [
    "# Make feature_values array\n",
    "feature_values = []\n",
    "for i in range(0,num_features):\n",
    "    feature_values.append(list(set(X_train[:,i])))"
   ]
  },
  {
   "cell_type": "code",
   "execution_count": null,
   "metadata": {},
   "outputs": [],
   "source": [
    "num_features = X_train.shape[1]\n",
    "num_samples = X_train.shape[0]\n",
    "features = []\n",
    "for word in words:\n",
    "    features.append(word[0])\n",
    "print(features[0:10])"
   ]
  },
  {
   "cell_type": "code",
   "execution_count": null,
   "metadata": {},
   "outputs": [],
   "source": [
    "def GINI(Y):\n",
    "    #print(Y)\n",
    "    nC1 = 0\n",
    "    nC2 = 0\n",
    "    if(np.shape(Y)==(np.shape(Y)[0],2)):\n",
    "        for i in Y:\n",
    "            if(i[1]==0):\n",
    "                nC1+=1\n",
    "            elif(i[1]==1):\n",
    "                nC2+=1\n",
    "        n = nC1 + nC2\n",
    "        if(n==0):\n",
    "            return 0\n",
    "        gini = 1 - np.power((nC1/n),2) - np.power((nC2/n),2)\n",
    "        return [gini,nC1,nC2]\n",
    "    else:\n",
    "        for i in Y:\n",
    "            if(i==0):\n",
    "                nC1+=1\n",
    "            elif(i==1):\n",
    "                nC2+=1\n",
    "        n = nC1 + nC2\n",
    "        gini = 1 - np.power((nC1/n),2) - np.power((nC2/n),2)\n",
    "        return [gini,nC1,nC2]"
   ]
  },
  {
   "cell_type": "code",
   "execution_count": null,
   "metadata": {},
   "outputs": [],
   "source": [
    "def split(X, Y, num_features=num_features, feature_values=feature_values, features=features):\n",
    "    num_samples = X.shape[0]\n",
    "    Node = []\n",
    "    best_feature_idx = 0\n",
    "    for i in range(0,num_features):\n",
    "        L = []\n",
    "        R = []\n",
    "        min_gini = 1\n",
    "        for j in range(0,num_samples):\n",
    "            if(X[j][i]<np.mean(feature_values[i])):\n",
    "                L.append([X[j],Y[j]])\n",
    "            else:\n",
    "                R.append([X[j],Y[j]])\n",
    "        \n",
    "        n1 = len(L)\n",
    "        n2 = len(R)\n",
    "        n = n1 + n2\n",
    "        Gini_split = (n1/n)*(GINI(L)[0]) + (n2/n)*(GINI(R)[0])\n",
    "        #print(\"\\n\")\n",
    "        if(Gini_split<min_gini):\n",
    "            min_gini = Gini_split\n",
    "            best_feature_idx = i\n",
    "    \n",
    "    # Now we know best feature for splitting\n",
    "    for j in range(0,num_samples):\n",
    "        if(X[j][best_feature_idx]<np.mean(feature_values[best_feature_idx])):\n",
    "            L.append([X[j],Y[j]])\n",
    "        else:\n",
    "            R.append([X[j],Y[j]])\n",
    "    gini_L, nLC1, nLC2 = GINI(L)\n",
    "    gini_R, nRC1, nRC2 = GINI(R)\n",
    "    gini , nC1, nC2 = GINI(Y)\n",
    "    node_class = -1\n",
    "    majority_class = -1\n",
    "    if(nC1>nC2):\n",
    "        majority_class = 0\n",
    "    else:\n",
    "        majority_class = 1\n",
    "    if(nC1==0):\n",
    "        node_class = 1\n",
    "    elif(nC2==0):\n",
    "        node_class = 0\n",
    "    Node_info = [gini,features[best_feature_idx],np.mean(feature_values[best_feature_idx]), node_class,majority_class]\n",
    "    Node.append([Node_info,L,R])\n",
    "    \n",
    "    return Node"
   ]
  },
  {
   "cell_type": "code",
   "execution_count": null,
   "metadata": {},
   "outputs": [],
   "source": [
    "Root_Node = split(X_train,Y_train)"
   ]
  },
  {
   "cell_type": "code",
   "execution_count": null,
   "metadata": {},
   "outputs": [],
   "source": [
    "print(Root_Node)\n",
    "print(\"\\n\",Root_Node[0][1])\n",
    "print(\"\\n\",Root_Node[0][2])\n",
    "print(\"\\n\",Root_Node[0][0])"
   ]
  },
  {
   "cell_type": "code",
   "execution_count": null,
   "metadata": {},
   "outputs": [],
   "source": [
    "# Node_info = Node[0][0]\n",
    "# L = Node[0][1]\n",
    "# R = Node[0][2]\n",
    "max_depth=20\n",
    "DT = []\n",
    "Nodes = []\n",
    "Nodes.append([Root_Node[0][0][1]])\n",
    "for i in range(0,max_depth):\n",
    "#     Node_info = Root_Node[0][0]\n",
    "#     L_Node = Root_Node[0][1]\n",
    "#     R_Node = Root_Node[0][2]\n",
    "    \n",
    "    L_Node = split(L)\n",
    "    R_Node = split(R)\n",
    "    \n",
    "    Nodes.append([L_Node[0][0][1]])\n",
    "    Nodes.append([R_Node[0][0][1]])"
   ]
  },
  {
   "cell_type": "code",
   "execution_count": null,
   "metadata": {},
   "outputs": [],
   "source": []
  }
 ],
 "metadata": {
  "kernelspec": {
   "display_name": "Python 3",
   "language": "python",
   "name": "python3"
  },
  "language_info": {
   "codemirror_mode": {
    "name": "ipython",
    "version": 3
   },
   "file_extension": ".py",
   "mimetype": "text/x-python",
   "name": "python",
   "nbconvert_exporter": "python",
   "pygments_lexer": "ipython3",
   "version": "3.5.2"
  }
 },
 "nbformat": 4,
 "nbformat_minor": 2
}
