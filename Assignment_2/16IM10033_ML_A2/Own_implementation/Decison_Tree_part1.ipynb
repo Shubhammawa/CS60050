{
 "cells": [
  {
   "cell_type": "code",
   "execution_count": 2,
   "metadata": {},
   "outputs": [],
   "source": [
    "import numpy as np\n",
    "import pandas as pd"
   ]
  },
  {
   "cell_type": "code",
   "execution_count": 41,
   "metadata": {},
   "outputs": [],
   "source": [
    "Train_data = pd.read_csv('Data_Part1/Train_data_part1.csv').values\n",
    "Test_data = pd.read_csv('Data_Part1/Test_data_part1.csv').values"
   ]
  },
  {
   "cell_type": "code",
   "execution_count": 42,
   "metadata": {},
   "outputs": [
    {
     "name": "stdout",
     "output_type": "stream",
     "text": [
      "[['low' 'low' 2 'no' 'yes']\n",
      " ['low' 'med' 4 'yes' 'no']\n",
      " ['low' 'high' 4 'no' 'no']\n",
      " ['med' 'med' 4 'no' 'no']\n",
      " ['med' 'med' 4 'yes' 'yes']\n",
      " ['med' 'high' 2 'yes' 'no']\n",
      " ['high' 'med' 4 'yes' 'yes']\n",
      " ['high' 'high' 2 'yes' 'no']\n",
      " ['high' 'high' 5 'yes' 'yes']]\n"
     ]
    }
   ],
   "source": [
    "print(Train_data)"
   ]
  },
  {
   "cell_type": "code",
   "execution_count": 43,
   "metadata": {},
   "outputs": [],
   "source": [
    "X_train = Train_data[:,:4]\n",
    "Y_train = Train_data[:,4]\n",
    "\n",
    "X_test = Test_data[:,:4]\n",
    "Y_test = Test_data[:,4]"
   ]
  },
  {
   "cell_type": "code",
   "execution_count": 44,
   "metadata": {},
   "outputs": [
    {
     "name": "stdout",
     "output_type": "stream",
     "text": [
      "[['low' 'low' 2 'no']\n",
      " ['low' 'med' 4 'yes']\n",
      " ['low' 'high' 4 'no']\n",
      " ['med' 'med' 4 'no']\n",
      " ['med' 'med' 4 'yes']\n",
      " ['med' 'high' 2 'yes']\n",
      " ['high' 'med' 4 'yes']\n",
      " ['high' 'high' 2 'yes']\n",
      " ['high' 'high' 5 'yes']]\n",
      "['yes' 'no' 'no' 'no' 'yes' 'no' 'yes' 'no' 'yes']\n"
     ]
    }
   ],
   "source": [
    "print(X_train)\n",
    "print(Y_train)"
   ]
  },
  {
   "cell_type": "code",
   "execution_count": 45,
   "metadata": {},
   "outputs": [],
   "source": [
    "# Conversion of strings into integer types\n",
    "\n",
    "# Price and Maintenance are ordinal variables, Airbag is a categorical variable.\n",
    "# Profitable is also a categorical variable.\n",
    "#from sklearn.preprocessing import OrdinalEncoder\n",
    "from sklearn.preprocessing import LabelEncoder\n",
    "\n",
    "LE1 = LabelEncoder()\n",
    "LE2 = LabelEncoder()\n",
    "LE3 = LabelEncoder()\n",
    "LE4 = LabelEncoder()\n",
    "\n",
    "\n",
    "LE1.fit(X_train[:,3])\n",
    "LE2.fit(Y_train)\n",
    "LE3.fit(X_train[:,0])\n",
    "LE4.fit(X_train[:,1])\n",
    "\n",
    "X_train[:,3] = LE1.transform(X_train[:,3])\n",
    "X_test[:,3] = LE1.transform(X_test[:,3])\n",
    "Y_train = LE2.transform(Y_train)\n",
    "Y_test = LE2.transform(Y_test)\n",
    "\n",
    "X_train[:,0] = LE3.transform(X_train[:,0])\n",
    "X_train[:,0] = np.where(X_train[:,0]==0,int(3),X_train[:,0])\n",
    "\n",
    "X_test[:,0] = LE3.transform(X_test[:,0])\n",
    "X_test[:,0] = np.where(X_test[:,0]==0,int(3),X_test[:,0])\n",
    "\n",
    "X_train[:,1] = LE4.transform(X_train[:,1])\n",
    "X_train[:,1] = np.where(X_train[:,1]==0,int(3),X_train[:,1])\n",
    "\n",
    "X_test[:,1] = LE4.transform(X_test[:,1])\n",
    "X_test[:,1] = np.where(X_test[:,1]==0,int(3),X_test[:,1])"
   ]
  },
  {
   "cell_type": "code",
   "execution_count": 61,
   "metadata": {},
   "outputs": [
    {
     "name": "stdout",
     "output_type": "stream",
     "text": [
      "[[1 1 2 0]\n",
      " [1 2 4 1]\n",
      " [1 3 4 0]\n",
      " [2 2 4 0]\n",
      " [2 2 4 1]\n",
      " [2 3 2 1]\n",
      " [3 2 4 1]\n",
      " [3 3 2 1]\n",
      " [3 3 5 1]]\n",
      "[1 0 0 0 1 0 1 0 1]\n"
     ]
    }
   ],
   "source": [
    "print(X_train)\n",
    "#LE3.transform(['high','low','low','med'])\n",
    "print(Y_train)"
   ]
  },
  {
   "cell_type": "code",
   "execution_count": 48,
   "metadata": {},
   "outputs": [],
   "source": [
    "num_features = X_train.shape[1]\n",
    "num_samples = X_train.shape[0]"
   ]
  },
  {
   "cell_type": "code",
   "execution_count": 63,
   "metadata": {},
   "outputs": [
    {
     "name": "stdout",
     "output_type": "stream",
     "text": [
      "4\n",
      "9\n"
     ]
    }
   ],
   "source": [
    "print(num_features)\n",
    "print(num_samples)\n",
    "features = ['price','maintenance','capacity','airbag']"
   ]
  },
  {
   "cell_type": "code",
   "execution_count": 50,
   "metadata": {},
   "outputs": [],
   "source": [
    "# Make feature_values array\n",
    "feature_values = []\n",
    "for i in range(0,num_features):\n",
    "    feature_values.append(list(set(X_train[:,i])))"
   ]
  },
  {
   "cell_type": "code",
   "execution_count": 53,
   "metadata": {},
   "outputs": [
    {
     "name": "stdout",
     "output_type": "stream",
     "text": [
      "2.0\n"
     ]
    }
   ],
   "source": [
    "print(np.mean(feature_values[0]))"
   ]
  },
  {
   "cell_type": "code",
   "execution_count": 194,
   "metadata": {},
   "outputs": [],
   "source": [
    "def GINI(Y):\n",
    "    #print(Y)\n",
    "    nC1 = 0\n",
    "    nC2 = 0\n",
    "    if(np.shape(Y)==(np.shape(Y)[0],2)):\n",
    "        for i in Y:\n",
    "            if(i[1]==0):\n",
    "                nC1+=1\n",
    "            elif(i[1]==1):\n",
    "                nC2+=1\n",
    "        n = nC1 + nC2\n",
    "        gini = 1 - np.power((nC1/n),2) - np.power((nC2/n),2)\n",
    "        return [gini,nC1,nC2]\n",
    "    else:\n",
    "        for i in Y:\n",
    "            if(i==0):\n",
    "                nC1+=1\n",
    "            elif(i==1):\n",
    "                nC2+=1\n",
    "        n = nC1 + nC2\n",
    "        gini = 1 - np.power((nC1/n),2) - np.power((nC2/n),2)\n",
    "        return [gini,nC1,nC2]"
   ]
  },
  {
   "cell_type": "code",
   "execution_count": 244,
   "metadata": {},
   "outputs": [],
   "source": [
    "def split(X, Y, num_features=num_features, feature_values=feature_values, features=features):\n",
    "    num_samples = X.shape[0]\n",
    "    Node = []\n",
    "    best_feature_idx = 0\n",
    "    for i in range(0,num_features):\n",
    "        L = []\n",
    "        R = []\n",
    "        min_gini = 1\n",
    "        for j in range(0,num_samples):\n",
    "            if(X[j][i]<np.mean(feature_values[i])):\n",
    "                L.append([X[j],Y[j]])\n",
    "            else:\n",
    "                R.append([X[j],Y[j]])\n",
    "        \n",
    "        n1 = len(L)\n",
    "        n2 = len(R)\n",
    "        n = n1 + n2\n",
    "        Gini_split = (n1/n)*(GINI(L)[0]) + (n2/n)*(GINI(R)[0])\n",
    "        #print(\"\\n\")\n",
    "        if(Gini_split<min_gini):\n",
    "            min_gini = Gini_split\n",
    "            best_feature_idx = i\n",
    "    \n",
    "    # Now we know best feature for splitting\n",
    "    for j in range(0,num_samples):\n",
    "        if(X[j][best_feature_idx]<np.mean(feature_values[best_feature_idx])):\n",
    "            L.append([X[j],Y[j]])\n",
    "        else:\n",
    "            R.append([X[j],Y[j]])\n",
    "    gini_L, nLC1, nLC2 = GINI(L)\n",
    "    gini_R, nRC1, nRC2 = GINI(R)\n",
    "    gini , nC1, nC2 = GINI(Y)\n",
    "    node_class = -1\n",
    "    majority_class = -1\n",
    "    if(nC1>nC2):\n",
    "        majority_class = 0\n",
    "    else:\n",
    "        majority_class = 1\n",
    "    if(nC1==0):\n",
    "        node_class = 1\n",
    "    elif(nC2==0):\n",
    "        node_class = 0\n",
    "    Node_info = [gini,features[best_feature_idx],np.mean(feature_values[best_feature_idx]), node_class,majority_class]\n",
    "    Node.append([Node_info,L,R])\n",
    "    \n",
    "    return Node"
   ]
  },
  {
   "cell_type": "code",
   "execution_count": 245,
   "metadata": {},
   "outputs": [],
   "source": [
    "#print(Y_train)\n",
    "Root_Node = split(X_train,Y_train)"
   ]
  },
  {
   "cell_type": "code",
   "execution_count": 246,
   "metadata": {},
   "outputs": [],
   "source": [
    "# print(X_train)\n",
    "# print(Y_train)"
   ]
  },
  {
   "cell_type": "code",
   "execution_count": 247,
   "metadata": {},
   "outputs": [
    {
     "name": "stdout",
     "output_type": "stream",
     "text": [
      "[[[0.49382716049382713, 'airbag', 0.5, -1, 0], [[array([1, 1, 2, 0], dtype=object), 1], [array([1, 3, 4, 0], dtype=object), 0], [array([2, 2, 4, 0], dtype=object), 0], [array([1, 1, 2, 0], dtype=object), 1], [array([1, 3, 4, 0], dtype=object), 0], [array([2, 2, 4, 0], dtype=object), 0]], [[array([1, 2, 4, 1], dtype=object), 0], [array([2, 2, 4, 1], dtype=object), 1], [array([2, 3, 2, 1], dtype=object), 0], [array([3, 2, 4, 1], dtype=object), 1], [array([3, 3, 2, 1], dtype=object), 0], [array([3, 3, 5, 1], dtype=object), 1], [array([1, 2, 4, 1], dtype=object), 0], [array([2, 2, 4, 1], dtype=object), 1], [array([2, 3, 2, 1], dtype=object), 0], [array([3, 2, 4, 1], dtype=object), 1], [array([3, 3, 2, 1], dtype=object), 0], [array([3, 3, 5, 1], dtype=object), 1]]]]\n",
      "\n",
      " [[array([1, 1, 2, 0], dtype=object), 1], [array([1, 3, 4, 0], dtype=object), 0], [array([2, 2, 4, 0], dtype=object), 0], [array([1, 1, 2, 0], dtype=object), 1], [array([1, 3, 4, 0], dtype=object), 0], [array([2, 2, 4, 0], dtype=object), 0]]\n",
      "\n",
      " [[array([1, 2, 4, 1], dtype=object), 0], [array([2, 2, 4, 1], dtype=object), 1], [array([2, 3, 2, 1], dtype=object), 0], [array([3, 2, 4, 1], dtype=object), 1], [array([3, 3, 2, 1], dtype=object), 0], [array([3, 3, 5, 1], dtype=object), 1], [array([1, 2, 4, 1], dtype=object), 0], [array([2, 2, 4, 1], dtype=object), 1], [array([2, 3, 2, 1], dtype=object), 0], [array([3, 2, 4, 1], dtype=object), 1], [array([3, 3, 2, 1], dtype=object), 0], [array([3, 3, 5, 1], dtype=object), 1]]\n",
      "\n",
      " [0.49382716049382713, 'airbag', 0.5, -1, 0]\n"
     ]
    }
   ],
   "source": [
    "print(Root_Node)\n",
    "print(\"\\n\",Root_Node[0][1])\n",
    "print(\"\\n\",Root_Node[0][2])\n",
    "print(\"\\n\",Root_Node[0][0])"
   ]
  },
  {
   "cell_type": "code",
   "execution_count": 202,
   "metadata": {},
   "outputs": [],
   "source": [
    "# L = []\n",
    "# R = []\n",
    "# for j in range(0,num_samples):\n",
    "#             if(X_train[j][i]<np.mean(feature_values[i])):\n",
    "#                 L.append([X_train[j],Y_train[j]])\n",
    "#             else:\n",
    "#                 R.append([X_train[j],Y_train[j]])"
   ]
  },
  {
   "cell_type": "code",
   "execution_count": 206,
   "metadata": {},
   "outputs": [],
   "source": [
    "# print(L)\n",
    "# print(np.shape(L)[1])"
   ]
  },
  {
   "cell_type": "code",
   "execution_count": 205,
   "metadata": {},
   "outputs": [],
   "source": [
    "# print(R)"
   ]
  },
  {
   "cell_type": "code",
   "execution_count": 249,
   "metadata": {},
   "outputs": [
    {
     "name": "stdout",
     "output_type": "stream",
     "text": [
      "airbag\n"
     ]
    }
   ],
   "source": [
    "print(Root_Node[0][0][1])"
   ]
  },
  {
   "cell_type": "code",
   "execution_count": null,
   "metadata": {},
   "outputs": [],
   "source": [
    "# Node_info = Node[0][0]\n",
    "# L = Node[0][1]\n",
    "# R = Node[0][2]\n",
    "max_depth=20\n",
    "DT = []\n",
    "Nodes = []\n",
    "Nodes.append([Root_Node[0][0][1]])\n",
    "for i in range(0,max_depth):\n",
    "#     Node_info = Root_Node[0][0]\n",
    "#     L_Node = Root_Node[0][1]\n",
    "#     R_Node = Root_Node[0][2]\n",
    "    \n",
    "    L_Node = split(L)\n",
    "    R_Node = split(R)\n",
    "    \n",
    "    Nodes.append([L_Node[0][0][1]])\n",
    "    Nodes.append([R_Node[0][0][1]])"
   ]
  }
 ],
 "metadata": {
  "kernelspec": {
   "display_name": "Python 3",
   "language": "python",
   "name": "python3"
  },
  "language_info": {
   "codemirror_mode": {
    "name": "ipython",
    "version": 3
   },
   "file_extension": ".py",
   "mimetype": "text/x-python",
   "name": "python",
   "nbconvert_exporter": "python",
   "pygments_lexer": "ipython3",
   "version": "3.5.2"
  }
 },
 "nbformat": 4,
 "nbformat_minor": 2
}
