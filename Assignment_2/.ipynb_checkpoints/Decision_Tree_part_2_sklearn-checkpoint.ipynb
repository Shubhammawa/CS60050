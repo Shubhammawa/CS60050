{
 "cells": [
  {
   "cell_type": "code",
   "execution_count": 1,
   "metadata": {},
   "outputs": [],
   "source": [
    "import numpy as np\n",
    "from sklearn.tree import DecisionTreeClassifier\n",
    "import pandas as pd\n",
    "from sklearn.metrics import accuracy_score"
   ]
  },
  {
   "cell_type": "code",
   "execution_count": 12,
   "metadata": {},
   "outputs": [],
   "source": [
    "import csv\n",
    "with open('Data_part2/traindata.txt', 'r') as in_file:\n",
    "    stripped = (line.strip() for line in in_file)\n",
    "    lines = (line.split('\\t') for line in stripped if line)\n",
    "    with open('traindata.csv', 'a') as out_file:\n",
    "        writer = csv.writer(out_file)\n",
    "        #writer.writerow(('Sentence', 'Category'))\n",
    "        writer.writerows(lines)\n",
    "with open('Data_part2/testdata.txt', 'r') as in_file:\n",
    "    stripped = (line.strip() for line in in_file)\n",
    "    lines = (line.split('\\t') for line in stripped if line)\n",
    "    with open('testdata.csv', 'a') as out_file:\n",
    "        writer = csv.writer(out_file)\n",
    "        #writer.writerow(('Sentence', 'Category'))\n",
    "        writer.writerows(lines)\n",
    "with open('Data_part2/trainlabel.txt', 'r') as in_file:\n",
    "    stripped = (line.strip() for line in in_file)\n",
    "    lines = (line.split('\\t') for line in stripped if line)\n",
    "    with open('trainlabel.csv', 'a') as out_file:\n",
    "        writer = csv.writer(out_file)\n",
    "        #writer.writerow(('Sentence', 'Category'))\n",
    "        writer.writerows(lines)\n",
    "with open('Data_part2/testlabel.txt', 'r') as in_file:\n",
    "    stripped = (line.strip() for line in in_file)\n",
    "    lines = (line.split('\\t') for line in stripped if line)\n",
    "    with open('testlabel.csv', 'a') as out_file:\n",
    "        writer = csv.writer(out_file)\n",
    "        #writer.writerow(('Sentence', 'Category'))\n",
    "        writer.writerows(lines)\n",
    "with open('Data_part2/words.txt', 'r') as in_file:\n",
    "    stripped = (line.strip() for line in in_file)\n",
    "    lines = (line.split('\\t') for line in stripped if line)\n",
    "    with open('words.csv', 'a') as out_file:\n",
    "        writer = csv.writer(out_file)\n",
    "        #writer.writerow(('Sentence', 'Category'))\n",
    "        writer.writerows(lines)"
   ]
  },
  {
   "cell_type": "code",
   "execution_count": 41,
   "metadata": {},
   "outputs": [
    {
     "name": "stdout",
     "output_type": "stream",
     "text": [
      "[[   1    1]\n",
      " [   1    2]\n",
      " [   1    3]\n",
      " ...\n",
      " [1061  528]\n",
      " [1061 2718]\n",
      " [1061 3040]]\n"
     ]
    }
   ],
   "source": [
    "Train_data = pd.read_csv(\"Data_Part2/traindata.csv\").values\n",
    "print(Train_data)"
   ]
  },
  {
   "cell_type": "code",
   "execution_count": 44,
   "metadata": {},
   "outputs": [
    {
     "name": "stdout",
     "output_type": "stream",
     "text": [
      "3566\n",
      "1061\n"
     ]
    }
   ],
   "source": [
    "words = pd.read_csv(\"Data_Part2/words.csv\").values\n",
    "#print(len(words))\n",
    "#print(words[0:10])\n",
    "vocab_size = len(words)\n",
    "print(vocab_size)\n",
    "Labels = pd.read_csv(\"Data_Part2/trainlabel.csv\").values\n",
    "#print(len(Labels))\n",
    "Y_train = Labels[:,0]\n",
    "num_docs = len(Y_train)\n",
    "print(num_docs)"
   ]
  },
  {
   "cell_type": "code",
   "execution_count": 45,
   "metadata": {},
   "outputs": [],
   "source": [
    "# X_train = Train_data[:,1]\n",
    "# X_train = X_train.reshape(-1,1)\n",
    "# print(X_train)"
   ]
  },
  {
   "cell_type": "code",
   "execution_count": 49,
   "metadata": {},
   "outputs": [],
   "source": [
    "X_train = np.zeros((num_docs,vocab_size))\n",
    "for i in Train_data[:,0]:\n",
    "    X_train[i-1,Train_data[i-1,1]-1] = 1"
   ]
  },
  {
   "cell_type": "code",
   "execution_count": 50,
   "metadata": {},
   "outputs": [
    {
     "name": "stdout",
     "output_type": "stream",
     "text": [
      "(1061, 3566)\n"
     ]
    }
   ],
   "source": [
    "print(X_train.shape)"
   ]
  },
  {
   "cell_type": "code",
   "execution_count": 52,
   "metadata": {},
   "outputs": [
    {
     "name": "stdout",
     "output_type": "stream",
     "text": [
      "[0. 0. 0. ... 0. 0. 0.]\n"
     ]
    }
   ],
   "source": [
    "print(X_train[745,:])"
   ]
  },
  {
   "cell_type": "code",
   "execution_count": 65,
   "metadata": {},
   "outputs": [
    {
     "name": "stdout",
     "output_type": "stream",
     "text": [
      "[[   1    3]\n",
      " [   1   10]\n",
      " [   1   12]\n",
      " ...\n",
      " [ 707  528]\n",
      " [ 707  686]\n",
      " [ 707 3143]]\n"
     ]
    }
   ],
   "source": [
    "Test_data = pd.read_csv(\"Data_Part2/testdata.csv\").values\n",
    "print(Test_data)"
   ]
  },
  {
   "cell_type": "code",
   "execution_count": 66,
   "metadata": {},
   "outputs": [
    {
     "name": "stdout",
     "output_type": "stream",
     "text": [
      "707\n"
     ]
    }
   ],
   "source": [
    "Labels_test = pd.read_csv(\"Data_Part2/testlabel.csv\").values\n",
    "#print(len(Labels))\n",
    "Y_test = Labels_test[:,0]\n",
    "num_docs_test = len(Y_test)\n",
    "print(num_docs_test)"
   ]
  },
  {
   "cell_type": "code",
   "execution_count": 67,
   "metadata": {},
   "outputs": [],
   "source": [
    "X_test = np.zeros((num_docs_test,vocab_size))\n",
    "for i in Test_data[:,0]:\n",
    "    X_test[i-1,Test_data[i-1,1]-1] = 1"
   ]
  },
  {
   "cell_type": "code",
   "execution_count": 53,
   "metadata": {},
   "outputs": [
    {
     "name": "stdout",
     "output_type": "stream",
     "text": [
      "1061\n"
     ]
    }
   ],
   "source": [
    "print(len(Y_train))"
   ]
  },
  {
   "cell_type": "code",
   "execution_count": 68,
   "metadata": {},
   "outputs": [],
   "source": [
    "# Using Information Gain\n",
    "DT = DecisionTreeClassifier(criterion='entropy')\n",
    "DT.fit(X_train,Y_train)\n",
    "Y_pred = DT.predict(X_test)"
   ]
  },
  {
   "cell_type": "code",
   "execution_count": 70,
   "metadata": {},
   "outputs": [
    {
     "name": "stdout",
     "output_type": "stream",
     "text": [
      "Test Accuracy =  0.5657708628005658\n"
     ]
    }
   ],
   "source": [
    "#print(Y_pred)\n",
    "Test_acc = accuracy_score(Y_test,Y_pred)\n",
    "print(\"Test Accuracy = \",Test_acc)"
   ]
  },
  {
   "cell_type": "code",
   "execution_count": 74,
   "metadata": {},
   "outputs": [
    {
     "data": {
      "text/plain": [
       "'Cars_entropy.pdf'"
      ]
     },
     "execution_count": 74,
     "metadata": {},
     "output_type": "execute_result"
    }
   ],
   "source": [
    "from sklearn import tree\n",
    "import graphviz\n",
    "data = tree.export_graphviz(DT, out_file=None, filled=True\n",
    "                           ,rounded=True,special_characters=True)\n",
    "graph = graphviz.Source(data)\n",
    "graph.render(\"\")"
   ]
  },
  {
   "cell_type": "code",
   "execution_count": null,
   "metadata": {},
   "outputs": [],
   "source": []
  }
 ],
 "metadata": {
  "kernelspec": {
   "display_name": "Python 3",
   "language": "python",
   "name": "python3"
  },
  "language_info": {
   "codemirror_mode": {
    "name": "ipython",
    "version": 3
   },
   "file_extension": ".py",
   "mimetype": "text/x-python",
   "name": "python",
   "nbconvert_exporter": "python",
   "pygments_lexer": "ipython3",
   "version": "3.5.2"
  }
 },
 "nbformat": 4,
 "nbformat_minor": 2
}
