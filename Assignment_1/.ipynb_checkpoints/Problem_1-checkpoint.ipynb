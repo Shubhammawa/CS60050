{
 "cells": [
  {
   "cell_type": "code",
   "execution_count": 1,
   "metadata": {},
   "outputs": [],
   "source": [
    "import numpy as np\n",
    "from matplotlib import pyplot as plt\n",
    "import math"
   ]
  },
  {
   "cell_type": "code",
   "execution_count": 2,
   "metadata": {},
   "outputs": [],
   "source": [
    "# Part a\n",
    "# Generation of data\n",
    "\n",
    "# Generate size (10) no of points from Uniform distribution (0,1)\n",
    "def data_generation(num_instances=10):\n",
    "    num_instances = num_instances    # Defined here to easily change\n",
    "\n",
    "    x = np.random.uniform(size = num_instances)\n",
    "\n",
    "    y = np.sin(2*np.pi*x) + np.random.normal(loc=0.0, scale=0.3, size = num_instances)\n",
    "    \n",
    "    return [x,y]"
   ]
  },
  {
   "cell_type": "code",
   "execution_count": 3,
   "metadata": {},
   "outputs": [
    {
     "name": "stdout",
     "output_type": "stream",
     "text": [
      "x:  [0.38530232 0.75098948 0.17969799 0.19377375 0.53185506 0.97445321\n",
      " 0.09124974 0.39677978 0.1545047  0.65091257]\n",
      "y:  [ 1.25214891 -1.30958444  0.88592769  1.289821   -0.03943935 -0.14250203\n",
      "  0.53050575  0.43113698  0.75302519 -0.23373526]\n"
     ]
    }
   ],
   "source": [
    "data = data_generation(10)\n",
    "x = data[0]\n",
    "y = data[1]\n",
    "print(\"x: \",x)\n",
    "print(\"y: \",y)"
   ]
  },
  {
   "cell_type": "code",
   "execution_count": 4,
   "metadata": {},
   "outputs": [],
   "source": [
    "# Part b\n",
    "# Splitting dataset into train and test sets (80:20)\n",
    "def train_test_split(x, y, train_size_ratio = 0.8):\n",
    "    num_instances = x.shape[0]\n",
    "    train_size_ratio = train_size_ratio\n",
    "    indices = np.random.permutation(num_instances)\n",
    "    train_idx = indices[:int(train_size_ratio*num_instances)]\n",
    "    test_idx = indices[int(train_size_ratio*num_instances):]\n",
    "\n",
    "    x_train = x[train_idx]\n",
    "    x_test = x[test_idx]\n",
    "\n",
    "    y_train = y[train_idx]\n",
    "    y_test = y[test_idx]\n",
    "    \n",
    "    return [x_train, y_train, x_test, y_test]"
   ]
  },
  {
   "cell_type": "code",
   "execution_count": 5,
   "metadata": {},
   "outputs": [],
   "source": [
    "#print(train_size_ratio*num_instances)"
   ]
  },
  {
   "cell_type": "code",
   "execution_count": 6,
   "metadata": {},
   "outputs": [
    {
     "name": "stdout",
     "output_type": "stream",
     "text": [
      "[0.65091257 0.19377375 0.53185506 0.09124974 0.38530232 0.97445321\n",
      " 0.1545047  0.75098948]\n",
      "[-0.23373526  1.289821   -0.03943935  0.53050575  1.25214891 -0.14250203\n",
      "  0.75302519 -1.30958444]\n",
      "[0.88592769 0.43113698]\n"
     ]
    }
   ],
   "source": [
    "x_train, y_train, x_test, y_test = train_test_split(x,y)\n",
    "\n",
    "print(x_train)\n",
    "print(y_train)\n",
    "print(y_test)"
   ]
  },
  {
   "cell_type": "code",
   "execution_count": 20,
   "metadata": {},
   "outputs": [],
   "source": [
    "def Phi_matrix(x,degree):\n",
    "    num_instances = x.shape[0]\n",
    "    Phi = np.ones(shape=num_instances)\n",
    "    for i in range(1,degree+1):\n",
    "        Phi = np.append(arr = Phi, values = np.power(x,i),axis=0)\n",
    "    Phi = np.reshape(Phi,[degree+1, num_instances])\n",
    "    return Phi"
   ]
  },
  {
   "cell_type": "code",
   "execution_count": 48,
   "metadata": {},
   "outputs": [
    {
     "name": "stdout",
     "output_type": "stream",
     "text": [
      "(6, 8)\n",
      "(6, 2)\n",
      "<class 'numpy.ndarray'>\n"
     ]
    }
   ],
   "source": [
    "degree = 5\n",
    "Phi_train = Phi_matrix(x_train,degree)\n",
    "Phi_test = Phi_matrix(x_test,degree)\n",
    "print(Phi_train.shape)\n",
    "print(Phi_test.shape)\n",
    "print(type(Phi_train))"
   ]
  },
  {
   "cell_type": "code",
   "execution_count": 64,
   "metadata": {},
   "outputs": [],
   "source": [
    "# Part c\n",
    "# Fitting regression model\n",
    "def initialize_weights(degree):\n",
    "    W = np.random.uniform(size=degree+1)\n",
    "#     Phi = np.ones(shape=num_instances)\n",
    "#     for i in range(1,degree+1):\n",
    "#         Phi = np.append(arr = Phi, values = np.power(x,i),axis=0)\n",
    "#     Phi = np.reshape(Phi,[degree+1, num_instances])\n",
    "    \n",
    "    return W\n",
    "\n",
    "\n",
    "def hypothesis(Phi, W):\n",
    "#     W,Phi = intialize_weights(degree, num_instances)\n",
    "#     for i in range(1,degree+1):\n",
    "#         Phi = np.append(arr = Phi, values = np.power(x,i),axis=0)\n",
    "#     Phi = np.reshape(Phi,[degree+1, num_instances])\n",
    "    h = np.matmul(W,Phi)\n",
    "    \n",
    "    return h\n",
    "    \n",
    "\n",
    "def compute_loss(h, y):\n",
    "    num_instances = h.shape[0]\n",
    "    loss = np.sum(np.power((h - y),2))/(2*num_instances)\n",
    "\n",
    "    return loss\n",
    "    \n",
    "\n",
    "def gradient_descent(h,y,Phi,W, num_iterations=10,alpha=0.01):\n",
    "    losses = []\n",
    "    num_instances = h.shape[0]\n",
    "    #losses.append(compute_loss(h,y,num_instances))\n",
    "    i = 0\n",
    "    while(i<= num_iterations):\n",
    "        loss = compute_loss(h, y)\n",
    "        losses.append(loss)\n",
    "        print(\"Loss after iteration {} = {}\".format(i,loss))\n",
    "        dW = (1/num_instances)*np.matmul(Phi,(h-y).T)\n",
    "        W = W - alpha*dW\n",
    "        h = hypothesis(Phi, W)\n",
    "        \n",
    "        if i>0:\n",
    "            if (np.abs(losses[i-1]-losses[i])<0.001):\n",
    "                break\n",
    "        i = i + 1\n",
    "    \n",
    "    return [W,losses]\n",
    "\n",
    "def linear_reg(Phi, y, degree, num_iterations=10):\n",
    "    num_instances = Phi.shape[1]\n",
    "    \n",
    "    W = initialize_weights(degree)\n",
    "    \n",
    "    h = hypothesis(Phi, W)\n",
    "    \n",
    "    W,losses = gradient_descent(h,y,Phi,W,num_iterations)\n",
    "    \n",
    "    return W"
   ]
  },
  {
   "cell_type": "code",
   "execution_count": 65,
   "metadata": {},
   "outputs": [
    {
     "name": "stdout",
     "output_type": "stream",
     "text": [
      "(6, 8)\n",
      "(8,)\n",
      "(6, 2)\n",
      "(2,)\n"
     ]
    }
   ],
   "source": [
    "print(Phi_train.shape)\n",
    "print(y_train.shape)\n",
    "print(Phi_test.shape)\n",
    "print(y_test.shape)"
   ]
  },
  {
   "cell_type": "code",
   "execution_count": 66,
   "metadata": {},
   "outputs": [
    {
     "name": "stdout",
     "output_type": "stream",
     "text": [
      "Loss after iteration 0 = 1.2631688041438247\n",
      "Loss after iteration 1 = 1.2422100306825374\n",
      "Loss after iteration 2 = 1.221831665935371\n",
      "Loss after iteration 3 = 1.2020161495652055\n",
      "Loss after iteration 4 = 1.1827464617355652\n",
      "Loss after iteration 5 = 1.1640061064212632\n",
      "Loss after iteration 6 = 1.1457790952346731\n",
      "Loss after iteration 7 = 1.1280499317516919\n",
      "Loss after iteration 8 = 1.1108035963219636\n",
      "Loss after iteration 9 = 1.094025531348387\n",
      "Loss after iteration 10 = 1.0777016270214195\n",
      "Loss after iteration 11 = 1.0618182074941167\n",
      "Loss after iteration 12 = 1.0463620174842945\n",
      "Loss after iteration 13 = 1.031320209290611\n",
      "Loss after iteration 14 = 1.0166803302097835\n",
      "Loss after iteration 15 = 1.0024303103425447\n",
      "Loss after iteration 16 = 0.9885584507763235\n",
      "Loss after iteration 17 = 0.975053412133015\n",
      "Loss after iteration 18 = 0.961904203470556\n",
      "Loss after iteration 19 = 0.9491001715273734\n",
      "Loss after iteration 20 = 0.9366309902991141\n",
      "Loss after iteration 21 = 0.9244866509373868\n",
      "Loss after iteration 22 = 0.9126574519605664\n",
      "Loss after iteration 23 = 0.9011339897670203\n",
      "Loss after iteration 24 = 0.8899071494414115\n",
      "Loss after iteration 25 = 0.8789680958450201\n",
      "Loss after iteration 26 = 0.868308264981314\n",
      "Loss after iteration 27 = 0.8579193556282558\n",
      "Loss after iteration 28 = 0.8477933212291122\n",
      "Loss after iteration 29 = 0.8379223620337728\n",
      "Loss after iteration 30 = 0.8282989174828403\n",
      "Loss after iteration 31 = 0.8189156588269924\n",
      "Loss after iteration 32 = 0.8097654819743394\n",
      "Loss after iteration 33 = 0.8008415005587465\n",
      "Loss after iteration 34 = 0.7921370392222762\n",
      "Loss after iteration 35 = 0.7836456271051463\n",
      "Loss after iteration 36 = 0.7753609915367907\n",
      "Loss after iteration 37 = 0.7672770519218048\n",
      "Loss after iteration 38 = 0.7593879138147583\n",
      "Loss after iteration 39 = 0.7516878631780359\n",
      "Loss after iteration 40 = 0.7441713608170557\n",
      "Loss after iteration 41 = 0.7368330369873799\n",
      "Loss after iteration 42 = 0.7296676861684086\n",
      "Loss after iteration 43 = 0.7226702619985119\n",
      "Loss after iteration 44 = 0.7158358723666074\n",
      "Loss after iteration 45 = 0.7091597746553547\n",
      "Loss after iteration 46 = 0.7026373711312771\n",
      "Loss after iteration 47 = 0.6962642044772751\n",
      "Loss after iteration 48 = 0.6900359534631303\n",
      "Loss after iteration 49 = 0.6839484287497359\n",
      "Loss after iteration 50 = 0.6779975688229214\n",
      "Loss after iteration 51 = 0.6721794360528708\n",
      "Loss after iteration 52 = 0.6664902128752496\n",
      "Loss after iteration 53 = 0.6609261980902817\n",
      "Loss after iteration 54 = 0.6554838032761338\n",
      "Loss after iteration 55 = 0.6501595493130721\n",
      "Loss after iteration 56 = 0.6449500630149718\n",
      "Loss after iteration 57 = 0.6398520738648611\n",
      "Loss after iteration 58 = 0.6348624108512845\n",
      "Loss after iteration 59 = 0.6299779994023724\n",
      "Loss after iteration 60 = 0.6251958584145979\n",
      "Loss after iteration 61 = 0.6205130973732926\n",
      "Loss after iteration 62 = 0.615926913562091\n",
      "Loss after iteration 63 = 0.6114345893585504\n",
      "Loss after iteration 64 = 0.60703348961329\n",
      "Loss after iteration 65 = 0.6027210591100624\n",
      "Loss after iteration 66 = 0.5984948201042621\n",
      "Loss after iteration 67 = 0.5943523699374453\n",
      "Loss after iteration 68 = 0.5902913787255115\n",
      "Loss after iteration 69 = 0.5863095871182744\n",
      "Loss after iteration 70 = 0.5824048041282129\n",
      "Loss after iteration 71 = 0.5785749050262672\n",
      "Loss after iteration 72 = 0.5748178293026072\n",
      "Loss after iteration 73 = 0.5711315786903671\n",
      "Loss after iteration 74 = 0.5675142152503998\n",
      "Loss after iteration 75 = 0.5639638595151659\n",
      "Loss after iteration 76 = 0.5604786886899316\n",
      "Loss after iteration 77 = 0.5570569349095028\n",
      "Loss after iteration 78 = 0.5536968835487819\n",
      "Loss after iteration 79 = 0.5503968715854827\n",
      "Loss after iteration 80 = 0.5471552860133926\n",
      "Loss after iteration 81 = 0.5439705623046212\n",
      "Loss after iteration 82 = 0.5408411829193204\n",
      "Loss after iteration 83 = 0.5377656758614103\n",
      "Loss after iteration 84 = 0.5347426132788908\n",
      "Loss after iteration 85 = 0.5317706101073572\n",
      "Loss after iteration 86 = 0.5288483227553917\n",
      "Loss after iteration 87 = 0.5259744478305304\n",
      "Loss after iteration 88 = 0.523147720904557\n",
      "Loss after iteration 89 = 0.5203669153169054\n",
      "Loss after iteration 90 = 0.5176308410149961\n",
      "Loss after iteration 91 = 0.5149383434303637\n",
      "Loss after iteration 92 = 0.5122883023894701\n",
      "Loss after iteration 93 = 0.5096796310581332\n",
      "Loss after iteration 94 = 0.5071112749185303\n",
      "Loss after iteration 95 = 0.5045822107777727\n",
      "Loss after iteration 96 = 0.5020914458070729\n",
      "Loss after iteration 97 = 0.4996380166105633\n",
      "Loss after iteration 98 = 0.4972209883228459\n",
      "Loss after iteration 99 = 0.4948394537343893\n",
      "Loss after iteration 100 = 0.4924925324439112\n"
     ]
    }
   ],
   "source": [
    "W = linear_reg(Phi_train,y_train,5,100)"
   ]
  },
  {
   "cell_type": "code",
   "execution_count": null,
   "metadata": {},
   "outputs": [],
   "source": [
    "#print(x)\n",
    "#W,Phi = initialize_weights(x,5,x.shape[0])"
   ]
  },
  {
   "cell_type": "code",
   "execution_count": null,
   "metadata": {},
   "outputs": [],
   "source": [
    "# print(W.shape)\n",
    "# print(Phi.shape)\n",
    "# h = np.matmul(W,Phi)\n",
    "# print(h)\n",
    "# print(h.shape)"
   ]
  },
  {
   "cell_type": "code",
   "execution_count": null,
   "metadata": {},
   "outputs": [],
   "source": [
    "#print(y.shape)"
   ]
  },
  {
   "cell_type": "code",
   "execution_count": null,
   "metadata": {},
   "outputs": [],
   "source": [
    "# print(np.transpose(h-y))\n",
    "# print(np.power((h - y),2))\n",
    "#print(np.sum(np.power((h - y),2))/(2*num_instances))"
   ]
  },
  {
   "cell_type": "code",
   "execution_count": null,
   "metadata": {},
   "outputs": [],
   "source": [
    "#print(np.sum(h-y))"
   ]
  },
  {
   "cell_type": "code",
   "execution_count": 50,
   "metadata": {},
   "outputs": [
    {
     "name": "stdout",
     "output_type": "stream",
     "text": [
      "<class 'numpy.ndarray'>\n"
     ]
    }
   ],
   "source": [
    "print(type(W))"
   ]
  },
  {
   "cell_type": "code",
   "execution_count": 31,
   "metadata": {},
   "outputs": [],
   "source": [
    "h = hypothesis(Phi_test,W)\n",
    "test_error = compute_loss(h,y_test)"
   ]
  },
  {
   "cell_type": "code",
   "execution_count": 32,
   "metadata": {},
   "outputs": [
    {
     "name": "stdout",
     "output_type": "stream",
     "text": [
      "0.15883772647396163\n"
     ]
    }
   ],
   "source": [
    "print(test_error)"
   ]
  },
  {
   "cell_type": "code",
   "execution_count": 37,
   "metadata": {},
   "outputs": [
    {
     "name": "stdout",
     "output_type": "stream",
     "text": [
      "[0.38530232 0.75098948 0.17969799 0.19377375 0.53185506 0.97445321\n",
      " 0.09124974 0.39677978 0.1545047  0.65091257]\n"
     ]
    }
   ],
   "source": [
    "print(x)"
   ]
  },
  {
   "cell_type": "code",
   "execution_count": 38,
   "metadata": {},
   "outputs": [
    {
     "name": "stdout",
     "output_type": "stream",
     "text": [
      "[ 1.25214891 -1.30958444  0.88592769  1.289821   -0.03943935 -0.14250203\n",
      "  0.53050575  0.43113698  0.75302519 -0.23373526]\n"
     ]
    }
   ],
   "source": [
    "print(y)"
   ]
  },
  {
   "cell_type": "code",
   "execution_count": 67,
   "metadata": {},
   "outputs": [
    {
     "name": "stdout",
     "output_type": "stream",
     "text": [
      "[0.09663163 0.31994955]\n"
     ]
    }
   ],
   "source": [
    "print(h)"
   ]
  },
  {
   "cell_type": "code",
   "execution_count": 40,
   "metadata": {},
   "outputs": [
    {
     "data": {
      "text/plain": [
       "[<matplotlib.lines.Line2D at 0x7fc612f17cf8>]"
      ]
     },
     "execution_count": 40,
     "metadata": {},
     "output_type": "execute_result"
    },
    {
     "data": {
      "image/png": "[encoded data removed]",
      "text/plain": [
       "<Figure size 432x288 with 1 Axes>"
      ]
     },
     "metadata": {
      "needs_background": "light"
     },
     "output_type": "display_data"
    }
   ],
   "source": [
    "plt.plot(x,y)"
   ]
  },
  {
   "cell_type": "code",
   "execution_count": 71,
   "metadata": {},
   "outputs": [
    {
     "name": "stdout",
     "output_type": "stream",
     "text": [
      "[0.         0.11111111 0.22222222 0.33333333 0.44444444 0.55555556\n",
      " 0.66666667 0.77777778 0.88888889 1.        ]\n",
      "[ 0.68295747  1.03000961  0.71748182  0.81069887  0.56101364 -0.27616018\n",
      " -0.65220832 -0.69261622 -0.24183948  0.34620634]\n",
      "[0.07164287 0.0547711  0.04598228 0.05060206 0.07664284 0.13497433\n",
      " 0.23949404 0.40729785 0.65885054 1.01815632]\n"
     ]
    },
    {
     "data": {
      "text/plain": [
       "<matplotlib.collections.PathCollection at 0x7fc612af9320>"
      ]
     },
     "execution_count": 71,
     "metadata": {},
     "output_type": "execute_result"
    },
    {
     "data": {
      "image/png": "[encoded data removed]",
      "text/plain": [
       "<Figure size 432x288 with 1 Axes>"
      ]
     },
     "metadata": {
      "needs_background": "light"
     },
     "output_type": "display_data"
    }
   ],
   "source": [
    "X = np.linspace(0,1,num=10)\n",
    "PHI = Phi_matrix(X,degree=5)\n",
    "H = hypothesis(PHI,W)\n",
    "Y = np.sin(2*np.pi*X) + np.random.normal(loc=0.0, scale=0.3, size = X.shape[0])\n",
    "print(X)\n",
    "print(Y)\n",
    "#print(PHI)\n",
    "print(H)\n",
    "h = hypothesis(Phi_train,W)\n",
    "plt.scatter(x,y)\n",
    "plt.scatter(x_train,h)"
   ]
  },
  {
   "cell_type": "code",
   "execution_count": 72,
   "metadata": {},
   "outputs": [],
   "source": [
    "n = np.arange(1,9)"
   ]
  },
  {
   "cell_type": "code",
   "execution_count": 73,
   "metadata": {},
   "outputs": [
    {
     "name": "stdout",
     "output_type": "stream",
     "text": [
      "[1 2 3 4 5 6 7 8]\n"
     ]
    }
   ],
   "source": [
    "print(n)"
   ]
  },
  {
   "cell_type": "code",
   "execution_count": null,
   "metadata": {},
   "outputs": [],
   "source": []
  }
 ],
 "metadata": {
  "kernelspec": {
   "display_name": "Python 3",
   "language": "python",
   "name": "python3"
  },
  "language_info": {
   "codemirror_mode": {
    "name": "ipython",
    "version": 3
   },
   "file_extension": ".py",
   "mimetype": "text/x-python",
   "name": "python",
   "nbconvert_exporter": "python",
   "pygments_lexer": "ipython3",
   "version": "3.5.2"
  }
 },
 "nbformat": 4,
 "nbformat_minor": 2
}
