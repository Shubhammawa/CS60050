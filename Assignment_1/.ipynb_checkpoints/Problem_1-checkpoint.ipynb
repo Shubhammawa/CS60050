{
 "cells": [
  {
   "cell_type": "code",
   "execution_count": 252,
   "metadata": {},
   "outputs": [],
   "source": [
    "import numpy as np\n",
    "from matplotlib import pyplot as plt\n",
    "import math"
   ]
  },
  {
   "cell_type": "code",
   "execution_count": 253,
   "metadata": {},
   "outputs": [],
   "source": [
    "# Part a\n",
    "# Generation of data\n",
    "\n",
    "# Generate size (10) no of points from Uniform distribution (0,1)\n",
    "def data_generation(num_instances=10):\n",
    "    num_instances = num_instances    # Defined here to easily change\n",
    "\n",
    "    x = np.random.uniform(size = num_instances)\n",
    "\n",
    "    y = np.sin(2*np.pi*x) + np.random.normal(scale=0.3, size = num_instances)\n",
    "    \n",
    "    return [x,y]"
   ]
  },
  {
   "cell_type": "code",
   "execution_count": 254,
   "metadata": {},
   "outputs": [
    {
     "name": "stdout",
     "output_type": "stream",
     "text": [
      "x:  [0.98169782 0.08110585 0.52570519 0.30156119 0.21888938 0.39973775\n",
      " 0.59538647 0.50651611 0.06604206 0.84758571]\n",
      "y:  [-0.48058421  0.61618266  0.09515161  0.4822718   0.95160219  0.33725507\n",
      " -0.34989668 -0.13882636  0.55800886 -1.00353328]\n"
     ]
    }
   ],
   "source": [
    "data = data_generation(10)\n",
    "x = data[0]\n",
    "y = data[1]\n",
    "print(\"x: \",x)\n",
    "print(\"y: \",y)"
   ]
  },
  {
   "cell_type": "code",
   "execution_count": 255,
   "metadata": {},
   "outputs": [],
   "source": [
    "# Part b\n",
    "# Splitting dataset into train and test sets (80:20)\n",
    "def train_test_split(x, y, train_size_ratio = 0.8):\n",
    "    train_size_ratio = train_size_ratio\n",
    "    indices = np.random.permutation(num_instances)\n",
    "    train_idx = indices[:int(train_size_ratio*num_instances)]\n",
    "    test_idx = indices[int(train_size_ratio*num_instances):]\n",
    "\n",
    "    x_train = x[train_idx]\n",
    "    x_test = x[test_idx]\n",
    "\n",
    "    y_train = y[train_idx]\n",
    "    y_test = y[test_idx]\n",
    "    \n",
    "    return [x_train, y_train, x_test, y_test]"
   ]
  },
  {
   "cell_type": "code",
   "execution_count": 256,
   "metadata": {},
   "outputs": [
    {
     "name": "stdout",
     "output_type": "stream",
     "text": [
      "8.0\n"
     ]
    }
   ],
   "source": [
    "print(train_size_ratio*num_instances)"
   ]
  },
  {
   "cell_type": "code",
   "execution_count": 257,
   "metadata": {},
   "outputs": [
    {
     "name": "stdout",
     "output_type": "stream",
     "text": [
      "[0.30156119 0.06604206 0.59538647 0.52570519 0.84758571 0.08110585\n",
      " 0.39973775 0.50651611]\n",
      "[ 0.4822718   0.55800886 -0.34989668  0.09515161 -1.00353328  0.61618266\n",
      "  0.33725507 -0.13882636]\n",
      "[ 0.95160219 -0.48058421]\n"
     ]
    }
   ],
   "source": [
    "x_train, y_train, x_test, y_test = train_test_split(x,y)\n",
    "\n",
    "print(x_train)\n",
    "print(y_train)\n",
    "print(y_test)"
   ]
  },
  {
   "cell_type": "code",
   "execution_count": 258,
   "metadata": {},
   "outputs": [],
   "source": [
    "# Part c\n",
    "# Fitting regression model\n",
    "def initialize_weights(x, degree, num_instances):\n",
    "    W = np.random.uniform(size=degree+1)\n",
    "    Phi = np.ones(shape=num_instances)\n",
    "    for i in range(1,degree+1):\n",
    "        Phi = np.append(arr = Phi, values = np.power(x,i),axis=0)\n",
    "    Phi = np.reshape(Phi,[degree+1, num_instances])\n",
    "    \n",
    "    return [W,Phi]\n",
    "\n",
    "\n",
    "def hypothesis(Phi, W):\n",
    "#     W,Phi = intialize_weights(degree, num_instances)\n",
    "#     for i in range(1,degree+1):\n",
    "#         Phi = np.append(arr = Phi, values = np.power(x,i),axis=0)\n",
    "#     Phi = np.reshape(Phi,[degree+1, num_instances])\n",
    "    h = np.matmul(W,Phi)\n",
    "    \n",
    "    return h\n",
    "    \n",
    "\n",
    "def compute_loss(h, y, num_instances):\n",
    "    loss = np.sum(np.power((h - y),2))/(2*num_instances)\n",
    "\n",
    "    return loss\n",
    "    \n",
    "\n",
    "def gradient_descent(h,Phi,W, num_iterations=10,alpha=0.01):\n",
    "    losses = []\n",
    "    #losses.append(compute_loss(h,y,num_instances))\n",
    "    i = 0\n",
    "    while(i<= num_iterations):\n",
    "        loss = compute_loss(h, y, num_instances)\n",
    "        losses.append(loss)\n",
    "        print(\"Loss after iteration {} = {}\".format(i,loss))\n",
    "        dW = np.matmul(Phi,(h-y).T)\n",
    "        W = W - alpha*dW\n",
    "        h = hypothesis(Phi, W)\n",
    "        \n",
    "        if i>0:\n",
    "            if (np.abs(losses[i-1]-losses[i])<0.001):\n",
    "                break\n",
    "        i = i + 1\n",
    "    \n",
    "    return [W,losses]\n",
    "\n",
    "def linear_reg(x, y, degree, num_iterations=10):\n",
    "    num_instances = x.shape[0]\n",
    "    \n",
    "    W,Phi = initialize_weights(x, degree, num_instances)\n",
    "    \n",
    "    h = hypothesis(Phi, W)\n",
    "    \n",
    "    W,losses = gradient_descent(h,Phi,W,num_iterations)\n",
    "    \n",
    "    return W"
   ]
  },
  {
   "cell_type": "code",
   "execution_count": 265,
   "metadata": {},
   "outputs": [
    {
     "name": "stdout",
     "output_type": "stream",
     "text": [
      "Loss after iteration 0 = 2.3408446500139157\n",
      "Loss after iteration 1 = 1.744833408862694\n",
      "Loss after iteration 2 = 1.3230575404078997\n",
      "Loss after iteration 3 = 1.0227252011923913\n",
      "Loss after iteration 4 = 0.8072060595326583\n",
      "Loss after iteration 5 = 0.6510691445947071\n",
      "Loss after iteration 6 = 0.5366455082940155\n",
      "Loss after iteration 7 = 0.45164703354591856\n",
      "Loss after iteration 8 = 0.38751678111107246\n",
      "Loss after iteration 9 = 0.3382860444141366\n",
      "Loss after iteration 10 = 0.29978238885682873\n",
      "Loss after iteration 11 = 0.2690808168568595\n",
      "Loss after iteration 12 = 0.24412335176506464\n",
      "Loss after iteration 13 = 0.22345529545640613\n",
      "Loss after iteration 14 = 0.20604231810495524\n",
      "Loss after iteration 15 = 0.19114355394277918\n",
      "Loss after iteration 16 = 0.17822350629432762\n",
      "Loss after iteration 17 = 0.16689084961017536\n",
      "Loss after iteration 18 = 0.15685587642636406\n",
      "Loss after iteration 19 = 0.1479008724045071\n",
      "Loss after iteration 20 = 0.13985945865540303\n",
      "Loss after iteration 21 = 0.132602156915899\n",
      "Loss after iteration 22 = 0.12602627571717556\n",
      "Loss after iteration 23 = 0.12004879934518045\n",
      "Loss after iteration 24 = 0.11460136572742177\n",
      "Loss after iteration 25 = 0.10962669950127184\n",
      "Loss after iteration 26 = 0.10507606060231241\n",
      "Loss after iteration 27 = 0.10090740319808336\n",
      "Loss after iteration 28 = 0.09708403299675865\n",
      "Loss after iteration 29 = 0.09357361556663897\n",
      "Loss after iteration 30 = 0.09034743309704367\n",
      "Loss after iteration 31 = 0.08737981809997361\n",
      "Loss after iteration 32 = 0.08464771411022184\n",
      "Loss after iteration 33 = 0.08213032840941867\n",
      "Loss after iteration 34 = 0.07980885219951524\n",
      "Loss after iteration 35 = 0.07766623088466128\n",
      "Loss after iteration 36 = 0.07568697215806951\n",
      "Loss after iteration 37 = 0.07385698310485941\n",
      "Loss after iteration 38 = 0.07216342998907939\n",
      "Loss after iteration 39 = 0.07059461611609745\n",
      "Loss after iteration 40 = 0.06913987437418938\n",
      "Loss after iteration 41 = 0.06778947191665582\n",
      "Loss after iteration 42 = 0.06653452505580901\n",
      "Loss after iteration 43 = 0.06536692287737295\n",
      "Loss after iteration 44 = 0.06427925840008733\n",
      "Loss after iteration 45 = 0.06326476633661683\n",
      "Loss after iteration 46 = 0.062317266683291905\n"
     ]
    }
   ],
   "source": [
    "W = linear_reg(x,y,9,100)"
   ]
  },
  {
   "cell_type": "code",
   "execution_count": 250,
   "metadata": {},
   "outputs": [
    {
     "name": "stdout",
     "output_type": "stream",
     "text": [
      "[0.56432878 0.65605089 0.58162162 0.95635819 0.84996109 0.62926274\n",
      " 0.60923994 0.60364032 0.15580836 0.02994856]\n"
     ]
    }
   ],
   "source": [
    "print(x)"
   ]
  },
  {
   "cell_type": "code",
   "execution_count": 251,
   "metadata": {},
   "outputs": [
    {
     "name": "stdout",
     "output_type": "stream",
     "text": [
      "None\n"
     ]
    }
   ],
   "source": [
    "print(h)"
   ]
  },
  {
   "cell_type": "code",
   "execution_count": 241,
   "metadata": {},
   "outputs": [
    {
     "name": "stdout",
     "output_type": "stream",
     "text": [
      "[-0.23278417 -1.16718041 -0.7739011  -0.14658705 -1.10307514 -1.04484254\n",
      " -0.69891908 -0.49205347  0.80347755 -0.01227789]\n"
     ]
    }
   ],
   "source": [
    "print(y)"
   ]
  },
  {
   "cell_type": "code",
   "execution_count": 242,
   "metadata": {},
   "outputs": [
    {
     "ename": "TypeError",
     "evalue": "unsupported operand type(s) for -: 'NoneType' and 'float'",
     "output_type": "error",
     "traceback": [
      "\u001b[0;31m---------------------------------------------------------------------------\u001b[0m",
      "\u001b[0;31mTypeError\u001b[0m                                 Traceback (most recent call last)",
      "\u001b[0;32m<ipython-input-242-8326d6f84b88>\u001b[0m in \u001b[0;36m<module>\u001b[0;34m\u001b[0m\n\u001b[0;32m----> 1\u001b[0;31m \u001b[0mprint\u001b[0m\u001b[0;34m(\u001b[0m\u001b[0mnp\u001b[0m\u001b[0;34m.\u001b[0m\u001b[0mtranspose\u001b[0m\u001b[0;34m(\u001b[0m\u001b[0mh\u001b[0m\u001b[0;34m-\u001b[0m\u001b[0my\u001b[0m\u001b[0;34m)\u001b[0m\u001b[0;34m)\u001b[0m\u001b[0;34m\u001b[0m\u001b[0m\n\u001b[0m\u001b[1;32m      2\u001b[0m \u001b[0mprint\u001b[0m\u001b[0;34m(\u001b[0m\u001b[0mnp\u001b[0m\u001b[0;34m.\u001b[0m\u001b[0mpower\u001b[0m\u001b[0;34m(\u001b[0m\u001b[0;34m(\u001b[0m\u001b[0mh\u001b[0m \u001b[0;34m-\u001b[0m \u001b[0my\u001b[0m\u001b[0;34m)\u001b[0m\u001b[0;34m,\u001b[0m\u001b[0;36m2\u001b[0m\u001b[0;34m)\u001b[0m\u001b[0;34m)\u001b[0m\u001b[0;34m\u001b[0m\u001b[0m\n\u001b[1;32m      3\u001b[0m \u001b[0mprint\u001b[0m\u001b[0;34m(\u001b[0m\u001b[0mnp\u001b[0m\u001b[0;34m.\u001b[0m\u001b[0msum\u001b[0m\u001b[0;34m(\u001b[0m\u001b[0mnp\u001b[0m\u001b[0;34m.\u001b[0m\u001b[0mpower\u001b[0m\u001b[0;34m(\u001b[0m\u001b[0;34m(\u001b[0m\u001b[0mh\u001b[0m \u001b[0;34m-\u001b[0m \u001b[0my\u001b[0m\u001b[0;34m)\u001b[0m\u001b[0;34m,\u001b[0m\u001b[0;36m2\u001b[0m\u001b[0;34m)\u001b[0m\u001b[0;34m)\u001b[0m\u001b[0;34m/\u001b[0m\u001b[0;34m(\u001b[0m\u001b[0;36m2\u001b[0m\u001b[0;34m*\u001b[0m\u001b[0mnum_instances\u001b[0m\u001b[0;34m)\u001b[0m\u001b[0;34m)\u001b[0m\u001b[0;34m\u001b[0m\u001b[0m\n",
      "\u001b[0;31mTypeError\u001b[0m: unsupported operand type(s) for -: 'NoneType' and 'float'"
     ]
    }
   ],
   "source": [
    "print(np.transpose(h-y))\n",
    "print(np.power((h - y),2))\n",
    "print(np.sum(np.power((h - y),2))/(2*num_instances))"
   ]
  },
  {
   "cell_type": "code",
   "execution_count": 243,
   "metadata": {},
   "outputs": [
    {
     "ename": "TypeError",
     "evalue": "unsupported operand type(s) for -: 'NoneType' and 'float'",
     "output_type": "error",
     "traceback": [
      "\u001b[0;31m---------------------------------------------------------------------------\u001b[0m",
      "\u001b[0;31mTypeError\u001b[0m                                 Traceback (most recent call last)",
      "\u001b[0;32m<ipython-input-243-eb59e85c071c>\u001b[0m in \u001b[0;36m<module>\u001b[0;34m\u001b[0m\n\u001b[0;32m----> 1\u001b[0;31m \u001b[0mprint\u001b[0m\u001b[0;34m(\u001b[0m\u001b[0mnp\u001b[0m\u001b[0;34m.\u001b[0m\u001b[0msum\u001b[0m\u001b[0;34m(\u001b[0m\u001b[0mh\u001b[0m\u001b[0;34m-\u001b[0m\u001b[0my\u001b[0m\u001b[0;34m)\u001b[0m\u001b[0;34m)\u001b[0m\u001b[0;34m\u001b[0m\u001b[0m\n\u001b[0m",
      "\u001b[0;31mTypeError\u001b[0m: unsupported operand type(s) for -: 'NoneType' and 'float'"
     ]
    }
   ],
   "source": [
    "print(np.sum(h-y))"
   ]
  },
  {
   "cell_type": "code",
   "execution_count": null,
   "metadata": {},
   "outputs": [],
   "source": []
  }
 ],
 "metadata": {
  "kernelspec": {
   "display_name": "Python 3",
   "language": "python",
   "name": "python3"
  },
  "language_info": {
   "codemirror_mode": {
    "name": "ipython",
    "version": 3
   },
   "file_extension": ".py",
   "mimetype": "text/x-python",
   "name": "python",
   "nbconvert_exporter": "python",
   "pygments_lexer": "ipython3",
   "version": "3.5.2"
  }
 },
 "nbformat": 4,
 "nbformat_minor": 2
}
